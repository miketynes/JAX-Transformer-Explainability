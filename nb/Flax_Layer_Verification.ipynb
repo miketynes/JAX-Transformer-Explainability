{
 "cells": [
  {
   "cell_type": "code",
   "execution_count": 1,
   "id": "2fbfacf8",
   "metadata": {},
   "outputs": [],
   "source": [
    "%load_ext autoreload\n",
    "%autoreload 2"
   ]
  },
  {
   "cell_type": "code",
   "execution_count": 2,
   "id": "8ca68c66",
   "metadata": {},
   "outputs": [
    {
     "name": "stderr",
     "output_type": "stream",
     "text": [
      "/local/.conda/envs/dl_sys/lib/python3.10/site-packages/tqdm/auto.py:22: TqdmWarning: IProgress not found. Please update jupyter and ipywidgets. See https://ipywidgets.readthedocs.io/en/stable/user_install.html\n",
      "  from .autonotebook import tqdm as notebook_tqdm\n"
     ]
    }
   ],
   "source": [
    "import sys\n",
    "import torch\n",
    "import torch.nn\n",
    "import jax\n",
    "import jax.numpy as jnp\n",
    "from jax import lax\n",
    "import flax\n",
    "import flax.linen as fnn\n",
    "import numpy as np\n",
    "from typing import Callable, Optional, Tuple, Union, Sequence, Iterable\n",
    "\n",
    "sys.path.append(\"../bert\")\n",
    "from transformers import BertConfig, BertTokenizer\n",
    "import modeling_flax_bert as bert_layers\n",
    "import bert_explainability_layers as ours"
   ]
  },
  {
   "cell_type": "code",
   "execution_count": 3,
   "id": "93c49be1",
   "metadata": {},
   "outputs": [],
   "source": [
    "def safe_divide(a, b):\n",
    "    den = b.clamp(min=1e-9) + b.clamp(max=1e-9)\n",
    "    den = den + den.eq(0).type(den.type()) * 1e-9\n",
    "    return a / den * b.ne(0).type(b.type())\n",
    "\n",
    "\n",
    "def forward_hook(self, input, output):\n",
    "    if type(input[0]) in (list, tuple):\n",
    "        self.X = []\n",
    "        for i in input[0]:\n",
    "            x = i.detach()\n",
    "            x.requires_grad = True\n",
    "            self.X.append(x)\n",
    "    else:\n",
    "        self.X = input[0].detach()\n",
    "        self.X.requires_grad = True\n",
    "\n",
    "    self.Y = output\n",
    "\n",
    "\n",
    "class RelProp(torch.nn.Module):\n",
    "    def __init__(self):\n",
    "        super(RelProp, self).__init__()\n",
    "        # if not self.training:\n",
    "        self.register_forward_hook(forward_hook)\n",
    "\n",
    "    def gradprop(self, Z, X, S):\n",
    "        C = torch.autograd.grad(Z, X, S, retain_graph=True)\n",
    "        return C\n",
    "\n",
    "    def relprop(self, R, alpha):\n",
    "        return R\n",
    "\n",
    "\n",
    "class RelPropSimple(RelProp):\n",
    "    def relprop(self, R, alpha):\n",
    "        Z = self.forward(self.X)\n",
    "        S = safe_divide(R, Z)\n",
    "        C = self.gradprop(Z, self.X, S)\n",
    "\n",
    "        if torch.is_tensor(self.X) == False:\n",
    "            outputs = []\n",
    "            outputs.append(self.X[0] * C[0])\n",
    "            outputs.append(self.X[1] * C[1])\n",
    "        else:\n",
    "            outputs = self.X * (C[0])\n",
    "        return outputs\n",
    "\n",
    "class MatMul(RelPropSimple):\n",
    "    def forward(self, inputs):\n",
    "        return torch.matmul(*inputs)\n",
    "    \n",
    "class Add(RelPropSimple):\n",
    "    def forward(self, inputs):\n",
    "        return torch.add(*inputs)\n",
    "\n",
    "    def relprop(self, R, alpha):\n",
    "        Z = self.forward(self.X)\n",
    "        S = safe_divide(R, Z)\n",
    "        C = self.gradprop(Z, self.X, S)\n",
    "\n",
    "        a = self.X[0] * C[0]\n",
    "        b = self.X[1] * C[1]\n",
    "\n",
    "        a_sum = a.sum()\n",
    "        b_sum = b.sum()\n",
    "\n",
    "        a_fact = safe_divide(a_sum.abs(), a_sum.abs() + b_sum.abs()) * R.sum()\n",
    "        b_fact = safe_divide(b_sum.abs(), a_sum.abs() + b_sum.abs()) * R.sum()\n",
    "\n",
    "        a = a * safe_divide(a_fact, a.sum())\n",
    "        b = b * safe_divide(b_fact, b.sum())\n",
    "\n",
    "        outputs = [a, b]\n",
    "        return outputs\n",
    "    \n",
    "class IndexSelect(RelProp):\n",
    "    def forward(self, inputs, dim, indices):\n",
    "        self.__setattr__('dim', dim)\n",
    "        self.__setattr__('indices', indices)\n",
    "\n",
    "        return torch.index_select(inputs, dim, indices)\n",
    "\n",
    "    def relprop(self, R, alpha):\n",
    "        Z = self.forward(self.X, self.dim, self.indices)\n",
    "        S = safe_divide(R, Z)\n",
    "        C = self.gradprop(Z, self.X, S)\n",
    "\n",
    "        if torch.is_tensor(self.X) == False:\n",
    "            outputs = []\n",
    "            outputs.append(self.X[0] * C[0])\n",
    "            outputs.append(self.X[1] * C[1])\n",
    "        else:\n",
    "            outputs = self.X * (C[0])\n",
    "        return outputs\n",
    "    \n",
    "class Clone(RelProp):\n",
    "    def forward(self, input, num):\n",
    "        self.__setattr__('num', num)\n",
    "        outputs = []\n",
    "        for _ in range(num):\n",
    "            outputs.append(input)\n",
    "\n",
    "        return outputs\n",
    "\n",
    "    def relprop(self, R, alpha):\n",
    "        Z = []\n",
    "        for _ in range(self.num):\n",
    "            Z.append(self.X)\n",
    "        S = [safe_divide(r, z) for r, z in zip(R, Z)]\n",
    "        C = self.gradprop(Z, self.X, S)[0]\n",
    "\n",
    "        R = self.X * C\n",
    "\n",
    "        return R"
   ]
  },
  {
   "cell_type": "code",
   "execution_count": 4,
   "id": "c8424b25",
   "metadata": {},
   "outputs": [
    {
     "data": {
      "text/plain": [
       "tensor([[-1., -1.],\n",
       "        [-1., -1.]])"
      ]
     },
     "execution_count": 4,
     "metadata": {},
     "output_type": "execute_result"
    }
   ],
   "source": [
    "A = torch.ones((2,2))\n",
    "B = torch.tensor([[-2., 1], [1, -2]])\n",
    "\n",
    "mm = MatMul()\n",
    "mm([A,B])"
   ]
  },
  {
   "cell_type": "code",
   "execution_count": 5,
   "id": "9b922586",
   "metadata": {},
   "outputs": [
    {
     "data": {
      "text/plain": [
       "[tensor([[ 2., -1.],\n",
       "         [ 0.,  0.]], grad_fn=<MulBackward0>),\n",
       " tensor([[ 2.,  0.],\n",
       "         [-1., -0.]], grad_fn=<MulBackward0>)]"
      ]
     },
     "execution_count": 5,
     "metadata": {},
     "output_type": "execute_result"
    }
   ],
   "source": [
    "mm.relprop(torch.tensor([[1.,0],[0,0]]), alpha=1)"
   ]
  },
  {
   "cell_type": "code",
   "execution_count": 6,
   "id": "04b4854b",
   "metadata": {},
   "outputs": [
    {
     "data": {
      "text/plain": [
       "tensor([[-1.,  2.],\n",
       "        [ 2., -1.]])"
      ]
     },
     "execution_count": 6,
     "metadata": {},
     "output_type": "execute_result"
    }
   ],
   "source": [
    "add = Add()\n",
    "add([A,B])"
   ]
  },
  {
   "cell_type": "code",
   "execution_count": 7,
   "id": "2a7f8981",
   "metadata": {},
   "outputs": [
    {
     "data": {
      "text/plain": [
       "[tensor([[0.3333, -0.0000],\n",
       "         [-0.0000, 0.0000]], grad_fn=<MulBackward0>),\n",
       " tensor([[0.6667, 0.0000],\n",
       "         [0.0000, 0.0000]], grad_fn=<MulBackward0>)]"
      ]
     },
     "execution_count": 7,
     "metadata": {},
     "output_type": "execute_result"
    }
   ],
   "source": [
    "add.relprop(torch.tensor([[1.,0],[0,0]]), alpha=1)"
   ]
  },
  {
   "cell_type": "code",
   "execution_count": 8,
   "id": "c9c61ab2",
   "metadata": {},
   "outputs": [
    {
     "data": {
      "text/plain": [
       "tensor([[-2.],\n",
       "        [ 1.]])"
      ]
     },
     "execution_count": 8,
     "metadata": {},
     "output_type": "execute_result"
    }
   ],
   "source": [
    "pool = IndexSelect()\n",
    "pool(B, 1, torch.zeros(1, dtype=torch.int32))"
   ]
  },
  {
   "cell_type": "code",
   "execution_count": 9,
   "id": "bc4c7b9d",
   "metadata": {},
   "outputs": [
    {
     "data": {
      "text/plain": [
       "tensor([[1., 0.],\n",
       "        [0., -0.]], grad_fn=<MulBackward0>)"
      ]
     },
     "execution_count": 9,
     "metadata": {},
     "output_type": "execute_result"
    }
   ],
   "source": [
    "pool.relprop(torch.tensor([[1.],[0]]), alpha=1)"
   ]
  },
  {
   "cell_type": "code",
   "execution_count": 10,
   "id": "4a67bc53",
   "metadata": {},
   "outputs": [
    {
     "data": {
      "text/plain": [
       "[tensor([[-2.,  1.],\n",
       "         [ 1., -2.]]),\n",
       " tensor([[-2.,  1.],\n",
       "         [ 1., -2.]])]"
      ]
     },
     "execution_count": 10,
     "metadata": {},
     "output_type": "execute_result"
    }
   ],
   "source": [
    "clone = Clone()\n",
    "clone(B, 2)"
   ]
  },
  {
   "cell_type": "code",
   "execution_count": 11,
   "id": "87014753",
   "metadata": {},
   "outputs": [
    {
     "data": {
      "text/plain": [
       "tensor([[0.5000, 0.7500],\n",
       "        [0.2500, 0.5000]], grad_fn=<MulBackward0>)"
      ]
     },
     "execution_count": 11,
     "metadata": {},
     "output_type": "execute_result"
    }
   ],
   "source": [
    "clone.relprop([torch.tensor([[.5,.5],[0,0]]), torch.tensor([[0,.25],[.25,.5]])], alpha=1)"
   ]
  },
  {
   "cell_type": "markdown",
   "id": "4935164c",
   "metadata": {},
   "source": [
    "It looks like clone is necessary because of the way pyTorch tracks gradients. Working out the math, I think the relprop works out to a sum over all of the relevances (which intuitively also makes sense). For this reason, I didn't include \"clone\" in the Flax layers I implemented and whenever I saw a clone.relprop in the pyTorch version, I added the relevances in the Jax version"
   ]
  },
  {
   "cell_type": "code",
   "execution_count": 12,
   "id": "83bd099d",
   "metadata": {},
   "outputs": [
    {
     "name": "stderr",
     "output_type": "stream",
     "text": [
      "WARNING:absl:No GPU/TPU found, falling back to CPU. (Set TF_CPP_MIN_LOG_LEVEL=0 and rerun for more info.)\n"
     ]
    },
    {
     "data": {
      "text/plain": [
       "DeviceArray([[-1., -1.],\n",
       "             [-1., -1.]], dtype=float32)"
      ]
     },
     "execution_count": 12,
     "metadata": {},
     "output_type": "execute_result"
    }
   ],
   "source": [
    "A = jnp.ones((2,2))\n",
    "B = jnp.array([[-2., 1], [1, -2]])\n",
    "\n",
    "jmm = ours.MatMul()\n",
    "jmm(A,B)"
   ]
  },
  {
   "cell_type": "code",
   "execution_count": 13,
   "id": "a72fbce9",
   "metadata": {},
   "outputs": [
    {
     "data": {
      "text/plain": [
       "[DeviceArray([[ 2., -1.],\n",
       "              [ 0.,  0.]], dtype=float32),\n",
       " DeviceArray([[ 2.,  0.],\n",
       "              [-1., -0.]], dtype=float32)]"
      ]
     },
     "execution_count": 13,
     "metadata": {},
     "output_type": "execute_result"
    }
   ],
   "source": [
    "jmm.relprop(jnp.array([[1.,0],[0,0]]), A, B)"
   ]
  },
  {
   "cell_type": "code",
   "execution_count": 14,
   "id": "3bee406c",
   "metadata": {},
   "outputs": [
    {
     "data": {
      "text/plain": [
       "DeviceArray([[-1.,  2.],\n",
       "             [ 2., -1.]], dtype=float32)"
      ]
     },
     "execution_count": 14,
     "metadata": {},
     "output_type": "execute_result"
    }
   ],
   "source": [
    "j_add = ours.Add()\n",
    "j_add(A,B)"
   ]
  },
  {
   "cell_type": "code",
   "execution_count": 15,
   "id": "9f4fc5d4",
   "metadata": {},
   "outputs": [
    {
     "data": {
      "text/plain": [
       "[DeviceArray([[ 0.33333334, -0.        ],\n",
       "              [-0.        ,  0.        ]], dtype=float32),\n",
       " DeviceArray([[0.6666667, 0.       ],\n",
       "              [0.       , 0.       ]], dtype=float32)]"
      ]
     },
     "execution_count": 15,
     "metadata": {},
     "output_type": "execute_result"
    }
   ],
   "source": [
    "j_add.relprop(jnp.array([[1.,0],[0,0]]), A, B)"
   ]
  },
  {
   "cell_type": "code",
   "execution_count": 16,
   "id": "139425a9",
   "metadata": {},
   "outputs": [
    {
     "data": {
      "text/plain": [
       "DeviceArray([[-2.],\n",
       "             [ 1.]], dtype=float32)"
      ]
     },
     "execution_count": 16,
     "metadata": {},
     "output_type": "execute_result"
    }
   ],
   "source": [
    "jax_pool = ours.IndexSelect()\n",
    "jax_pool(B, 1, jnp.zeros(1, dtype=jnp.int32))"
   ]
  },
  {
   "cell_type": "code",
   "execution_count": 17,
   "id": "154ae920",
   "metadata": {},
   "outputs": [
    {
     "data": {
      "text/plain": [
       "DeviceArray([[ 1.,  0.],\n",
       "             [ 0., -0.]], dtype=float32)"
      ]
     },
     "execution_count": 17,
     "metadata": {},
     "output_type": "execute_result"
    }
   ],
   "source": [
    "jax_pool.relprop(jnp.array([[1.],[0]]), B, 1, jnp.zeros(1, dtype=jnp.int32))"
   ]
  },
  {
   "cell_type": "code",
   "execution_count": 18,
   "id": "3942e8ec",
   "metadata": {},
   "outputs": [
    {
     "name": "stdout",
     "output_type": "stream",
     "text": [
      "FrozenDict({\n",
      "    kernel: DeviceArray([[ 1.53342038e-01,  3.29581231e-01],\n",
      "                 [ 4.70121145e-01,  1.81581691e-01],\n",
      "                 [ 1.80420190e-01,  3.35969597e-01],\n",
      "                 [-1.62113383e-01, -2.02395543e-01],\n",
      "                 [-1.18919984e-01, -6.62900805e-02],\n",
      "                 [-4.10243064e-01,  7.33509436e-02],\n",
      "                 [ 4.96547073e-02, -2.71931272e-02],\n",
      "                 [-2.19073966e-01,  4.65010494e-01],\n",
      "                 [ 1.54693127e-02,  1.10250756e-01],\n",
      "                 [-3.89764100e-01,  8.84109288e-02],\n",
      "                 [-3.79199862e-01, -2.35682800e-02],\n",
      "                 [ 3.24670374e-01,  2.04515398e-01],\n",
      "                 [ 1.44210760e-04,  1.65998340e-01],\n",
      "                 [-3.36234242e-01, -3.94779295e-01],\n",
      "                 [-1.40488684e-01, -5.03639765e-02],\n",
      "                 [-2.11226270e-02,  2.08313853e-01],\n",
      "                 [ 9.56470072e-02,  2.05471292e-01],\n",
      "                 [-9.69679356e-02, -3.74182016e-01],\n",
      "                 [-3.60750526e-01,  1.26213387e-01],\n",
      "                 [-1.55270472e-01,  3.00449669e-01]], dtype=float32),\n",
      "    bias: DeviceArray([0., 0.], dtype=float32),\n",
      "})\n"
     ]
    }
   ],
   "source": [
    "jax_dense = ours.Dense(2)\n",
    "x = jnp.ones((1,20))\n",
    "variables = jax_dense.init(jax.random.PRNGKey(0), x)\n",
    "model = jax_dense.bind(variables)\n",
    "model(x)\n",
    "variables\n",
    "print(model.variables[\"params\"])"
   ]
  },
  {
   "cell_type": "code",
   "execution_count": 19,
   "id": "92569ec8",
   "metadata": {},
   "outputs": [
    {
     "data": {
      "text/plain": [
       "DeviceArray([[1.1891876e-01, 3.6458510e-01, 1.3991822e-01, 0.0000000e+00,\n",
       "              0.0000000e+00, 0.0000000e+00, 3.8507875e-02, 0.0000000e+00,\n",
       "              1.1996655e-02, 0.0000000e+00, 0.0000000e+00, 2.5178614e-01,\n",
       "              1.1183733e-04, 0.0000000e+00, 0.0000000e+00, 0.0000000e+00,\n",
       "              7.4175507e-02, 0.0000000e+00, 0.0000000e+00, 0.0000000e+00]],            dtype=float32)"
      ]
     },
     "execution_count": 19,
     "metadata": {},
     "output_type": "execute_result"
    }
   ],
   "source": [
    "model.relprop(jnp.array([[1.,0]]), x)"
   ]
  },
  {
   "cell_type": "code",
   "execution_count": 20,
   "id": "9a164535",
   "metadata": {},
   "outputs": [],
   "source": [
    "tokenizer = BertTokenizer.from_pretrained(\"bert-base-uncased\")\n",
    "configuration = BertConfig()"
   ]
  },
  {
   "cell_type": "code",
   "execution_count": 21,
   "id": "5d36f3c3",
   "metadata": {},
   "outputs": [],
   "source": [
    "inputs = tokenizer(\"Hello world!\")\n",
    "input_ids = jnp.array(inputs[\"input_ids\"])\n",
    "token_ids = jnp.array(inputs[\"token_type_ids\"])\n",
    "attention_mask = jnp.array(inputs[\"attention_mask\"])\n",
    "position_ids = jnp.arange(input_ids.shape[0])"
   ]
  },
  {
   "cell_type": "code",
   "execution_count": 22,
   "id": "4f5da0e3",
   "metadata": {
    "scrolled": false
   },
   "outputs": [
    {
     "data": {
      "text/plain": [
       "(5, 768)"
      ]
     },
     "execution_count": 22,
     "metadata": {},
     "output_type": "execute_result"
    }
   ],
   "source": [
    "embedding_layer = bert_layers.FlaxBertEmbeddings(configuration)\n",
    "variables = embedding_layer.init(jax.random.PRNGKey(0), input_ids, token_ids,  position_ids, attention_mask)\n",
    "output = embedding_layer.apply(variables, input_ids, token_ids, position_ids, attention_mask)\n",
    "output.shape"
   ]
  },
  {
   "cell_type": "code",
   "execution_count": 23,
   "id": "061703bb",
   "metadata": {},
   "outputs": [
    {
     "data": {
      "text/plain": [
       "[DeviceArray([[ 3.1433138e-09, -4.8694666e-09, -4.3969450e-09, ...,\n",
       "                2.4628964e-12,  6.5122796e-09, -7.5907156e-09],\n",
       "              [ 5.2464384e-09,  4.1711883e-09,  3.5693684e-09, ...,\n",
       "               -1.1491520e-08, -7.9963085e-09,  2.2653799e-09],\n",
       "              [-7.7218343e-11,  4.1342711e-09, -7.0949807e-10, ...,\n",
       "               -8.1966034e-09, -1.1211086e-08, -3.1586398e-13],\n",
       "              [-1.8080911e-09, -5.1735189e-09, -3.4792007e-09, ...,\n",
       "                1.5778143e-09, -1.3092965e-08, -6.1562648e-09],\n",
       "              [-1.3209663e-09, -4.1299006e-10,  8.9867500e-09, ...,\n",
       "                3.6140119e-10, -7.1364568e-09, -7.4246453e-09]],            dtype=float32),\n",
       " DeviceArray([[-1.7690714e-09,  1.9062234e-09,  4.7452042e-10, ...,\n",
       "               -1.8748968e-10, -3.4874317e-09,  3.2353644e-09],\n",
       "              [-3.4204888e-09, -4.0048584e-10,  1.0476618e-10, ...,\n",
       "                9.5655728e-10,  1.0658153e-09, -1.9571462e-09],\n",
       "              [ 5.5020560e-10,  1.5006854e-09, -2.1098752e-09, ...,\n",
       "               -1.7299439e-09, -8.1967739e-09,  7.4458176e-11],\n",
       "              [ 5.1778021e-10,  4.6702828e-09,  1.8808590e-09, ...,\n",
       "               -1.9394817e-09, -7.3205086e-09,  1.8330717e-09],\n",
       "              [ 6.2643674e-10, -1.2561279e-09,  4.2220352e-09, ...,\n",
       "                1.3523925e-09,  2.4676372e-09,  1.7619661e-10]],            dtype=float32)]"
      ]
     },
     "execution_count": 23,
     "metadata": {},
     "output_type": "execute_result"
    }
   ],
   "source": [
    "cam = jnp.array(np.random.rand(*output.shape))\n",
    "cam = cam / cam.sum()\n",
    "cam = embedding_layer.apply(variables, output, input_ids, token_ids, position_ids, attention_mask, method=embedding_layer.relprop)\n",
    "cam"
   ]
  },
  {
   "cell_type": "code",
   "execution_count": 24,
   "id": "f8f81f30",
   "metadata": {},
   "outputs": [
    {
     "data": {
      "text/plain": [
       "(1, 5, 768)"
      ]
     },
     "execution_count": 24,
     "metadata": {},
     "output_type": "execute_result"
    }
   ],
   "source": [
    "output = output[jnp.newaxis]\n",
    "output.shape"
   ]
  },
  {
   "cell_type": "code",
   "execution_count": 25,
   "id": "e7f72b63",
   "metadata": {
    "scrolled": true
   },
   "outputs": [],
   "source": [
    "attention = bert_layers.FlaxBertAttention(configuration)\n",
    "variables = attention.init(jax.random.PRNGKey(0), output, attention_mask, None)\n",
    "hidden_states = attention.apply(variables, output, attention_mask, None)"
   ]
  },
  {
   "cell_type": "code",
   "execution_count": 26,
   "id": "def523a1",
   "metadata": {},
   "outputs": [
    {
     "name": "stdout",
     "output_type": "stream",
     "text": [
      "(DeviceArray([[[-0.56294453,  1.0679047 ,  1.1388768 , ...,  0.3926163 ,\n",
      "               -1.4752828 ,  1.9199177 ],\n",
      "              [-1.1342765 , -0.7030669 , -0.18691309, ...,  2.3455682 ,\n",
      "                1.5618546 , -0.48230222],\n",
      "              [ 0.3563769 , -0.39173922,  0.12976554, ...,  1.4595736 ,\n",
      "                0.5980807 ,  0.19320044],\n",
      "              [ 0.6631111 ,  1.5822634 ,  1.1960372 , ..., -0.13444656,\n",
      "                1.0535947 ,  1.4545076 ],\n",
      "              [ 0.54959863, -0.10840819, -0.42316663, ...,  0.59822196,\n",
      "                1.625095  ,  1.389647  ]]], dtype=float32),)\n"
     ]
    }
   ],
   "source": [
    "print(hidden_states)"
   ]
  },
  {
   "cell_type": "code",
   "execution_count": 27,
   "id": "6deaa841",
   "metadata": {
    "scrolled": true
   },
   "outputs": [
    {
     "data": {
      "text/plain": [
       "DeviceArray([[[3.47962632e-04, 3.03811335e-04, 3.28713504e-04, ...,\n",
       "               8.99931110e-05, 3.77409306e-04, 1.58041759e-04],\n",
       "              [4.52530629e-04, 4.54374327e-04, 8.31495490e-05, ...,\n",
       "               3.55336437e-04, 3.31967371e-04, 4.95868990e-05],\n",
       "              [4.04895400e-04, 3.29074363e-04, 4.75295499e-04, ...,\n",
       "               1.99961578e-04, 4.47486265e-04, 1.11088084e-04],\n",
       "              [9.64094797e-05, 3.58464313e-04, 2.52198399e-04, ...,\n",
       "               3.76594340e-04, 4.42620403e-05, 4.32472967e-04],\n",
       "              [1.06285097e-05, 2.65545590e-04, 3.56618839e-04, ...,\n",
       "               2.84285634e-04, 4.23955134e-06, 4.51202039e-04]]],            dtype=float32)"
      ]
     },
     "execution_count": 27,
     "metadata": {},
     "output_type": "execute_result"
    }
   ],
   "source": [
    "cam = jnp.array(np.random.rand(*hidden_states[0].shape))\n",
    "cam = cam / cam.sum()\n",
    "cam"
   ]
  },
  {
   "cell_type": "code",
   "execution_count": 28,
   "id": "85e780d9",
   "metadata": {},
   "outputs": [
    {
     "data": {
      "text/plain": [
       "DeviceArray(1.0000001, dtype=float32)"
      ]
     },
     "execution_count": 28,
     "metadata": {},
     "output_type": "execute_result"
    }
   ],
   "source": [
    "cam = attention.apply(variables, cam, output, None, None, method=attention.relprop)\n",
    "cam.sum()"
   ]
  },
  {
   "cell_type": "code",
   "execution_count": 29,
   "id": "8d643f83",
   "metadata": {},
   "outputs": [],
   "source": [
    "layer = bert_layers.FlaxBertLayer(configuration)\n",
    "variables = layer.init(jax.random.PRNGKey(0), output, attention_mask, None)\n",
    "hidden_states = layer.apply(variables, output, attention_mask, None)"
   ]
  },
  {
   "cell_type": "code",
   "execution_count": 30,
   "id": "ba44eaca",
   "metadata": {},
   "outputs": [
    {
     "data": {
      "text/plain": [
       "(1, 5, 768)"
      ]
     },
     "execution_count": 30,
     "metadata": {},
     "output_type": "execute_result"
    }
   ],
   "source": [
    "hidden_states[0].shape"
   ]
  },
  {
   "cell_type": "code",
   "execution_count": 31,
   "id": "e364f61e",
   "metadata": {},
   "outputs": [],
   "source": [
    "cam = jnp.array(np.random.rand(*hidden_states[0].shape))\n",
    "cam = cam / cam.sum()\n",
    "cam = layer.apply(variables, cam, output, attention_mask, None, method=layer.relprop)"
   ]
  },
  {
   "cell_type": "code",
   "execution_count": 32,
   "id": "4c1fb8b1",
   "metadata": {},
   "outputs": [
    {
     "data": {
      "text/plain": [
       "DeviceArray(0.9999999, dtype=float32)"
      ]
     },
     "execution_count": 32,
     "metadata": {},
     "output_type": "execute_result"
    }
   ],
   "source": [
    "cam.shape\n",
    "cam.sum()"
   ]
  },
  {
   "cell_type": "code",
   "execution_count": 33,
   "id": "c49688bb",
   "metadata": {},
   "outputs": [
    {
     "name": "stderr",
     "output_type": "stream",
     "text": [
      "2022-11-30 11:28:25.208107: W tensorflow/stream_executor/platform/default/dso_loader.cc:64] Could not load dynamic library 'libcudart.so.11.0'; dlerror: libcudart.so.11.0: cannot open shared object file: No such file or directory\n",
      "2022-11-30 11:28:25.228489: E tensorflow/stream_executor/cuda/cuda_blas.cc:2981] Unable to register cuBLAS factory: Attempting to register factory for plugin cuBLAS when one has already been registered\n",
      "2022-11-30 11:28:25.771252: W tensorflow/stream_executor/platform/default/dso_loader.cc:64] Could not load dynamic library 'libnvinfer.so.7'; dlerror: libnvinfer.so.7: cannot open shared object file: No such file or directory\n",
      "2022-11-30 11:28:25.771369: W tensorflow/stream_executor/platform/default/dso_loader.cc:64] Could not load dynamic library 'libnvinfer_plugin.so.7'; dlerror: libnvinfer_plugin.so.7: cannot open shared object file: No such file or directory\n",
      "2022-11-30 11:28:25.771383: W tensorflow/compiler/tf2tensorrt/utils/py_utils.cc:38] TF-TRT Warning: Cannot dlopen some TensorRT libraries. If you would like to use Nvidia GPU with TensorRT, please make sure the missing libraries mentioned above are installed properly.\n"
     ]
    }
   ],
   "source": [
    "layer_collection = bert_layers.FlaxBertLayerCollection(configuration)\n",
    "variables = layer_collection.init(jax.random.PRNGKey(0), output, attention_mask, None)\n",
    "hidden_states = layer_collection.apply(variables, output, attention_mask, None)"
   ]
  },
  {
   "cell_type": "code",
   "execution_count": 34,
   "id": "ac611654",
   "metadata": {},
   "outputs": [],
   "source": [
    "cam = jnp.array(np.random.rand(*hidden_states[0].shape))\n",
    "cam = cam / cam.sum()\n",
    "cam = layer_collection.apply(variables, cam, output, attention_mask, None, method=layer_collection.relprop)"
   ]
  },
  {
   "cell_type": "code",
   "execution_count": 35,
   "id": "c072b8f9",
   "metadata": {},
   "outputs": [
    {
     "data": {
      "text/plain": [
       "DeviceArray(0.9999996, dtype=float32)"
      ]
     },
     "execution_count": 35,
     "metadata": {},
     "output_type": "execute_result"
    }
   ],
   "source": [
    "cam.sum()"
   ]
  },
  {
   "cell_type": "code",
   "execution_count": 36,
   "id": "4b40e088",
   "metadata": {},
   "outputs": [],
   "source": [
    "encoder = bert_layers.FlaxBertEncoder(configuration)\n",
    "variables = encoder.init(jax.random.PRNGKey(0), output, attention_mask, None)\n",
    "hidden_states = encoder.apply(variables, output, attention_mask, None)"
   ]
  },
  {
   "cell_type": "code",
   "execution_count": 37,
   "id": "359601b4",
   "metadata": {},
   "outputs": [
    {
     "data": {
      "text/plain": [
       "FlaxBaseModelOutputWithPastAndCrossAttentions(last_hidden_state=DeviceArray([[[-0.73932266, -0.10496283, -0.23650123, ..., -0.29518175,\n",
       "               -0.07944169,  2.5543838 ],\n",
       "              [-1.0293188 , -1.4049089 ,  0.43076634, ...,  0.04329822,\n",
       "                1.65496   ,  0.30194774],\n",
       "              [ 0.4192415 , -1.8640374 ,  0.49091607, ...,  0.8654702 ,\n",
       "               -0.00657526,  0.5579648 ],\n",
       "              [ 0.07758794, -0.8224394 , -0.11835903, ..., -0.11618427,\n",
       "                1.0518749 ,  1.1674784 ],\n",
       "              [ 0.09991326, -0.80100965, -1.4718195 , ...,  0.5109208 ,\n",
       "                0.6762812 ,  1.2827846 ]]], dtype=float32), past_key_values=None, hidden_states=None, attentions=None, cross_attentions=None)"
      ]
     },
     "execution_count": 37,
     "metadata": {},
     "output_type": "execute_result"
    }
   ],
   "source": [
    "hidden_states"
   ]
  },
  {
   "cell_type": "code",
   "execution_count": 38,
   "id": "e3d2af55",
   "metadata": {},
   "outputs": [],
   "source": [
    "cam = jnp.array(np.random.rand(*hidden_states[0].shape))\n",
    "cam = cam / cam.sum()\n",
    "cam = encoder.apply(variables, cam, output, attention_mask, None, method=encoder.relprop)"
   ]
  },
  {
   "cell_type": "code",
   "execution_count": 39,
   "id": "cec6479c",
   "metadata": {},
   "outputs": [
    {
     "data": {
      "text/plain": [
       "DeviceArray(1., dtype=float32)"
      ]
     },
     "execution_count": 39,
     "metadata": {},
     "output_type": "execute_result"
    }
   ],
   "source": [
    "cam.sum()"
   ]
  },
  {
   "cell_type": "code",
   "execution_count": 40,
   "id": "eb45ec21",
   "metadata": {},
   "outputs": [
    {
     "name": "stdout",
     "output_type": "stream",
     "text": [
      "(1, 5)\n"
     ]
    }
   ],
   "source": [
    "inputs = tokenizer([\"Hello world!\",])\n",
    "input_ids = jnp.array(inputs[\"input_ids\"])\n",
    "attention_mask = jnp.array(inputs[\"attention_mask\"])\n",
    "print(input_ids.shape)\n",
    "\n",
    "bert_module = bert_layers.FlaxBertModule(configuration)\n",
    "variables = bert_module.init(jax.random.PRNGKey(0), input_ids, attention_mask, None)\n",
    "hidden_states = bert_module.apply(variables, input_ids, attention_mask, None)"
   ]
  },
  {
   "cell_type": "code",
   "execution_count": 41,
   "id": "6cb44158",
   "metadata": {},
   "outputs": [
    {
     "data": {
      "text/plain": [
       "FlaxBaseModelOutputWithPoolingAndCrossAttentions(last_hidden_state=DeviceArray([[[-1.803636  , -0.90945095, -0.4882279 , ..., -1.7539307 ,\n",
       "                0.26016185, -0.39490893],\n",
       "              [-1.0041101 ,  0.06071824, -0.61647964, ..., -0.9118402 ,\n",
       "               -1.5660151 , -1.7031233 ],\n",
       "              [-0.70081997, -0.7901022 , -1.5094408 , ..., -0.9647325 ,\n",
       "               -0.89686865,  0.2988747 ],\n",
       "              [-0.44771618, -0.58907217, -2.2381587 , ...,  0.40958568,\n",
       "               -0.7222764 , -1.6665676 ],\n",
       "              [-1.0788714 , -1.6146749 , -1.6605315 , ..., -1.2121923 ,\n",
       "               -0.27918416, -0.9997014 ]]], dtype=float32), pooler_output=DeviceArray([[-3.71137857e-01,  6.60066009e-01, -9.70576286e-01,\n",
       "               7.94233978e-02, -6.85315728e-01, -2.48473790e-02,\n",
       "              -3.00466567e-01,  6.13525093e-01, -3.73042107e-01,\n",
       "               3.94238204e-01,  8.54212463e-01,  1.11271188e-01,\n",
       "              -4.34547335e-01,  3.64358783e-01, -4.61808622e-01,\n",
       "              -1.86996818e-01, -1.00700825e-01,  3.59705597e-01,\n",
       "               5.61403155e-01,  1.26195565e-01,  3.81013930e-01,\n",
       "              -8.14101934e-01, -9.44650173e-02,  1.61341608e-01,\n",
       "               1.51070356e-01, -6.60711348e-01, -5.12092471e-01,\n",
       "              -4.59483154e-02, -5.70997894e-01,  5.87250590e-01,\n",
       "              -3.52898054e-03,  7.60525241e-02,  1.96629971e-01,\n",
       "              -1.03108183e-01, -6.61223173e-01, -2.39882737e-01,\n",
       "              -3.25494587e-01, -2.28981469e-02, -1.40983686e-01,\n",
       "              -2.14590713e-01,  5.30089214e-02,  5.32222390e-01,\n",
       "               2.36089155e-01,  2.98770308e-01,  3.22555572e-01,\n",
       "              -1.47066891e-01,  7.81032920e-01, -4.80644912e-01,\n",
       "               8.22511911e-01, -1.24553300e-01, -1.54591680e-01,\n",
       "               7.05056965e-01,  2.66651034e-01,  5.65728903e-01,\n",
       "               4.81949925e-01, -2.61887878e-01, -2.59759843e-01,\n",
       "              -7.32884258e-02,  5.50147220e-02, -3.34262997e-01,\n",
       "               4.10335004e-01, -2.91605890e-01,  1.89505383e-01,\n",
       "               1.40685931e-01,  1.50958493e-01,  8.79543051e-02,\n",
       "              -4.17911619e-01,  2.49554187e-01, -3.11819494e-01,\n",
       "              -1.11807272e-01,  3.28230560e-01, -2.77540207e-01,\n",
       "              -3.55961949e-01,  6.19947612e-01,  1.59286514e-01,\n",
       "              -5.70766211e-01, -1.25511363e-01, -4.44379672e-02,\n",
       "               5.17072380e-01,  6.20141149e-01,  1.92497313e-01,\n",
       "               7.39486337e-01,  1.50489971e-01,  7.22335696e-01,\n",
       "               3.14408183e-01, -1.86029404e-01, -1.10806197e-01,\n",
       "               4.10058759e-02,  2.75573552e-01,  6.43370926e-01,\n",
       "              -6.01596236e-01,  2.52648169e-04,  1.98815107e-01,\n",
       "               5.70850730e-01,  8.78582418e-01,  2.55523890e-01,\n",
       "              -6.87705100e-01,  6.40494525e-01, -9.75023955e-02,\n",
       "               4.15288866e-01,  3.34985197e-01, -5.04023373e-01,\n",
       "              -4.91165161e-01, -1.73145741e-01,  1.60295546e-01,\n",
       "              -5.44264793e-01, -2.94610888e-01,  1.85470134e-01,\n",
       "               9.73546430e-02,  5.95473945e-01,  2.77061462e-01,\n",
       "              -1.32493123e-01, -3.77726704e-02,  2.14293273e-03,\n",
       "               4.06180657e-02, -5.51958680e-01,  4.34880704e-02,\n",
       "              -1.41207859e-01, -7.61734784e-01,  3.00490092e-02,\n",
       "               5.06089747e-01,  5.23051381e-01,  7.81403601e-01,\n",
       "              -4.74762589e-01,  2.50000395e-02,  1.16631523e-01,\n",
       "              -7.75927067e-01, -2.31231619e-02, -1.50966704e-01,\n",
       "               6.78448528e-02, -5.83503485e-01, -3.62582982e-01,\n",
       "               4.55727786e-01, -2.85909683e-01, -5.95355511e-01,\n",
       "              -4.45527792e-01, -6.39315024e-02,  7.10914791e-01,\n",
       "              -3.67549807e-01, -1.93641812e-01,  1.82519048e-01,\n",
       "              -2.08125830e-01,  4.64876860e-01,  7.01677024e-01,\n",
       "               6.04489148e-01, -6.08291209e-01,  2.54520804e-01,\n",
       "              -3.74332070e-01,  6.44310534e-01, -2.13348642e-01,\n",
       "               2.83123255e-01,  1.76514223e-01,  9.60534215e-02,\n",
       "              -7.06182539e-01,  3.25919300e-01, -4.15151536e-01,\n",
       "              -3.10719192e-01, -7.19348848e-01,  7.92627037e-02,\n",
       "               5.15364766e-01,  8.02178867e-03, -7.87382960e-01,\n",
       "              -4.42814320e-01,  7.76360571e-01, -5.28571010e-03,\n",
       "              -1.80305958e-01, -6.28880203e-01,  7.58626163e-01,\n",
       "              -3.31429653e-02, -2.13338912e-01,  4.54958975e-01,\n",
       "              -4.68378842e-01, -6.60324156e-01, -5.79718471e-01,\n",
       "              -4.06528533e-01,  7.50434637e-01, -6.67456329e-01,\n",
       "              -4.76977587e-01,  3.27365577e-01, -5.08151054e-01,\n",
       "              -5.83054900e-01,  5.69411993e-01,  1.47212744e-01,\n",
       "              -1.71347857e-01,  6.75367951e-01, -5.45606196e-01,\n",
       "               1.25361234e-01,  1.68390900e-01, -1.70954272e-01,\n",
       "               2.66395777e-01,  8.48428905e-01, -6.63144112e-01,\n",
       "               8.09929430e-01,  4.59418237e-01, -6.18475556e-01,\n",
       "               1.32338643e-01, -2.55005628e-01,  6.86046779e-01,\n",
       "               2.30294332e-01,  3.06606472e-01, -4.37533855e-01,\n",
       "              -1.91232771e-01,  7.28006244e-01, -3.68283391e-01,\n",
       "               4.68344122e-01, -7.71872103e-01, -4.03477311e-01,\n",
       "              -4.52850103e-01, -2.92786121e-01,  4.62823838e-01,\n",
       "              -5.14159024e-01,  6.40235990e-02,  1.96927056e-01,\n",
       "              -5.22755206e-01,  2.82971740e-01, -3.45967472e-01,\n",
       "              -2.56323993e-01, -4.40291107e-01, -5.76695919e-01,\n",
       "               7.92030811e-01, -6.74750447e-01,  3.03824335e-01,\n",
       "               5.13883948e-01,  2.28180215e-01,  8.10379207e-01,\n",
       "              -6.27245829e-02, -1.63280740e-01, -6.99572504e-01,\n",
       "               1.90217085e-02, -6.06838167e-01,  8.03277612e-01,\n",
       "               1.93587333e-01,  1.67017326e-01, -3.82534832e-01,\n",
       "              -4.47045386e-01, -3.31830710e-01,  5.55288792e-01,\n",
       "               7.47724921e-02,  2.33154640e-01, -3.45213801e-01,\n",
       "              -6.95689499e-01,  6.57510877e-01,  3.54009956e-01,\n",
       "               3.65854144e-01, -1.54982477e-01,  1.26303568e-01,\n",
       "              -2.76484638e-01, -6.50740683e-01,  3.94927226e-02,\n",
       "               7.68077374e-01,  1.57130376e-01,  6.88288867e-01,\n",
       "               3.77904564e-01,  3.35818589e-01, -5.48673332e-01,\n",
       "              -6.80674672e-01,  8.94455552e-01,  4.16402519e-01,\n",
       "               6.89380765e-01, -4.69143212e-01, -5.86033583e-01,\n",
       "              -5.07866681e-01,  8.59326199e-02, -3.70981544e-02,\n",
       "              -3.97748828e-01, -6.57841414e-02, -2.17538461e-01,\n",
       "               1.46328121e-01, -5.63832164e-01, -5.11816680e-01,\n",
       "               1.46009266e-01, -3.46837640e-02, -1.95396408e-01,\n",
       "               5.42832613e-01, -1.69038519e-01, -9.92758200e-02,\n",
       "               3.01501513e-01, -9.09968913e-01,  2.44652301e-01,\n",
       "               1.45630598e-01, -2.05258176e-01,  3.47473413e-01,\n",
       "               3.68587554e-01,  4.31265622e-01, -3.71531099e-01,\n",
       "              -8.84103179e-01,  4.61068660e-01, -2.14349926e-01,\n",
       "               2.50202745e-01, -4.28462029e-01, -9.29317102e-02,\n",
       "              -5.13512969e-01, -4.93218571e-01,  2.62240231e-01,\n",
       "              -2.95630485e-01,  2.35178531e-03, -4.91908669e-01,\n",
       "              -5.47582507e-01,  8.83760870e-01, -7.06313789e-01,\n",
       "               2.37778932e-01, -2.06699610e-01,  2.22000360e-01,\n",
       "              -3.03075254e-01, -9.03109983e-02, -4.90951002e-01,\n",
       "               3.81165952e-03, -5.45584738e-01,  1.55492485e-01,\n",
       "              -3.58868003e-01,  1.93266883e-01,  1.69281647e-01,\n",
       "              -3.87114912e-01, -5.89907765e-01, -7.00369477e-01,\n",
       "              -8.51930976e-02,  2.07786709e-01,  3.86633784e-01,\n",
       "              -6.44501090e-01,  4.95772183e-01,  3.43747437e-01,\n",
       "               4.39240634e-01,  1.01939276e-01, -8.09107244e-01,\n",
       "              -7.20686793e-01,  8.16249192e-01, -6.52779400e-01,\n",
       "               2.22198665e-01, -8.92182112e-01,  1.93715930e-01,\n",
       "               2.78561234e-01, -1.01780683e-01, -6.37984633e-01,\n",
       "               2.74585456e-01,  2.78119236e-01,  1.58455055e-02,\n",
       "              -3.68524948e-03,  1.00859711e-02, -2.41567910e-01,\n",
       "               8.79636049e-01, -1.02929227e-01, -1.45300657e-01,\n",
       "              -2.65684426e-01,  1.00173704e-01,  1.14776947e-01,\n",
       "              -1.31428584e-01,  1.66556463e-01,  8.50974083e-01,\n",
       "               8.34019631e-02, -1.22658655e-01,  4.20349509e-01,\n",
       "              -1.11786425e-01,  4.32002693e-01,  7.62139857e-01,\n",
       "              -1.19721554e-01,  1.63718015e-01, -1.08568318e-01,\n",
       "              -1.70739651e-01, -5.39843738e-02,  3.27727020e-01,\n",
       "              -5.34335792e-01, -3.39831620e-01,  4.18669194e-01,\n",
       "               2.60196716e-01, -2.50171833e-02, -3.00504446e-01,\n",
       "               1.52653558e-02,  5.77305555e-01,  3.17583203e-01,\n",
       "               4.67796654e-01, -3.25013071e-01, -2.57890612e-01,\n",
       "               2.83030182e-01,  4.93057460e-01, -2.57041126e-01,\n",
       "              -7.43586242e-01,  5.41516423e-01, -2.01945171e-01,\n",
       "              -5.08119881e-01, -8.23735148e-02, -8.33209991e-01,\n",
       "              -3.32961589e-01,  6.71025336e-01, -2.00204134e-01,\n",
       "              -6.53872252e-01,  1.18902192e-01,  3.94406796e-01,\n",
       "               6.27579764e-02, -6.46713316e-01,  2.70007942e-02,\n",
       "              -3.35695446e-01,  7.39768028e-01, -4.37144250e-01,\n",
       "               8.55969489e-02,  6.94897890e-01, -2.40609482e-01,\n",
       "              -5.23652136e-01, -6.60727978e-01, -1.75746471e-01,\n",
       "               2.47081369e-01, -4.39189106e-01,  5.47969460e-01,\n",
       "              -6.88655198e-01,  4.24136668e-01, -1.39086142e-01,\n",
       "               5.96873522e-01,  4.77590784e-02,  4.97545034e-01,\n",
       "              -7.41212070e-01, -2.75614321e-01,  6.41433775e-01,\n",
       "               1.05749797e-02,  8.41751873e-01,  2.20992655e-01,\n",
       "              -6.50085881e-02,  3.37537766e-01,  3.61284524e-01,\n",
       "              -3.82612348e-02,  1.21118650e-01, -1.98290884e-01,\n",
       "              -8.26949060e-01, -5.33661187e-01, -7.89411664e-01,\n",
       "              -6.08299851e-01,  3.51683408e-01,  4.46243405e-01,\n",
       "              -4.36092645e-01,  3.57764304e-01,  6.19698584e-01,\n",
       "               3.33259314e-01,  7.18340695e-01,  8.73468637e-01,\n",
       "               2.48286605e-01, -1.41291589e-01, -8.98336351e-01,\n",
       "              -6.03188097e-01, -3.11873347e-01,  6.75007403e-02,\n",
       "              -2.06807569e-01, -4.77217019e-01, -5.52334666e-01,\n",
       "               3.33923668e-01,  5.28628647e-01, -3.88676971e-01,\n",
       "              -2.44686499e-01, -4.18317169e-01, -3.37672740e-01,\n",
       "               4.78913814e-01, -1.28737584e-01, -4.13452387e-01,\n",
       "              -3.59285057e-01,  3.08018833e-01, -8.20281565e-01,\n",
       "              -7.67853260e-01, -6.75031319e-02, -4.96069998e-01,\n",
       "              -8.89521778e-01, -6.02488756e-01,  4.96821731e-01,\n",
       "              -8.73025477e-01,  3.79469216e-01, -5.64965487e-01,\n",
       "              -3.15945536e-01,  5.24430990e-01,  4.94629920e-01,\n",
       "              -4.02799338e-01, -1.26452014e-01, -7.86086172e-02,\n",
       "               2.87319273e-01, -1.63680717e-01, -2.99922347e-01,\n",
       "               5.52798271e-01, -4.40725893e-01,  2.72768676e-01,\n",
       "              -1.12497166e-01, -2.42624655e-02,  2.34310105e-01,\n",
       "              -4.88616407e-01, -2.84759760e-01, -2.35704407e-01,\n",
       "               2.08025813e-01,  7.09360421e-01, -6.85561359e-01,\n",
       "              -3.03623915e-01,  9.64081511e-02, -1.27575368e-01,\n",
       "               1.45682961e-01, -6.93155706e-01, -6.19120561e-02,\n",
       "              -6.10527992e-01,  6.99364603e-01,  5.61426401e-01,\n",
       "              -8.12792718e-01,  1.15289822e-01, -1.46612711e-02,\n",
       "              -4.90538538e-01, -1.36016175e-01, -8.57011914e-01,\n",
       "               1.21944122e-01,  2.22427826e-02, -9.77921560e-02,\n",
       "              -3.31802785e-01, -7.46836960e-01, -1.65992439e-01,\n",
       "              -3.54303569e-01,  5.72338402e-01, -1.06281050e-01,\n",
       "              -7.97181308e-01,  3.86843950e-01,  1.21313907e-01,\n",
       "               5.65427721e-01,  3.39987934e-01,  5.02789736e-01,\n",
       "              -1.75267011e-01, -1.02349930e-01,  7.77176738e-01,\n",
       "              -7.34012187e-01, -6.42785609e-01, -7.72422612e-01,\n",
       "               7.27865934e-01, -3.43988478e-01, -2.60796696e-01,\n",
       "              -6.73364878e-01,  8.25354233e-02, -7.53495395e-01,\n",
       "              -2.83487409e-01,  5.86839318e-01, -3.33386540e-01,\n",
       "              -8.22575271e-01,  1.85676575e-01,  9.20721769e-01,\n",
       "               2.09865291e-02,  8.49365965e-02,  3.83175701e-01,\n",
       "              -3.93705256e-02,  4.06837851e-01,  4.15725201e-01,\n",
       "              -2.91902095e-01, -4.34504539e-01,  2.95273177e-02,\n",
       "               3.84544224e-01,  7.46707261e-01, -4.21208709e-01,\n",
       "               1.26162410e-01, -5.37657201e-01, -3.98267835e-01,\n",
       "               2.37282693e-01,  1.69102028e-01, -8.37436318e-02,\n",
       "               2.15557665e-01,  4.29793969e-02, -6.21948659e-01,\n",
       "              -3.34473968e-01, -1.48337692e-01, -1.99426264e-02,\n",
       "              -3.92506331e-01, -1.33622959e-01,  4.28168058e-01,\n",
       "              -2.00068980e-01,  7.69290328e-01,  2.10582659e-01,\n",
       "               5.86382337e-02,  1.43083364e-01,  6.18483424e-01,\n",
       "               7.67768681e-01,  4.46732998e-01,  6.82409227e-01,\n",
       "               6.81392252e-02,  3.73847008e-01,  3.42371091e-02,\n",
       "              -4.42965552e-02, -1.62121207e-01, -5.74174106e-01,\n",
       "              -4.26301658e-01,  3.04692924e-01, -2.36912780e-02,\n",
       "              -3.48781854e-01, -3.82924050e-01,  8.10297251e-01,\n",
       "               8.73689950e-02,  2.85750568e-01, -3.41505200e-01,\n",
       "               4.00359541e-01,  2.10095048e-01, -5.95014811e-01,\n",
       "              -2.35119849e-01, -2.05435783e-01, -8.47427845e-01,\n",
       "               6.45228624e-01,  9.16890129e-02,  2.76123285e-01,\n",
       "               4.40155923e-01,  7.75330722e-01,  2.97624022e-01,\n",
       "              -6.90194011e-01, -5.42862296e-01, -2.95973420e-01,\n",
       "               8.02389145e-01, -2.19655320e-01, -3.61629903e-01,\n",
       "               1.20320581e-01,  1.52114779e-01, -6.35878891e-02,\n",
       "               4.55069333e-01,  2.58380082e-02,  7.08392859e-02,\n",
       "              -3.72612327e-01,  2.05159679e-01,  5.00891745e-01,\n",
       "              -3.37073714e-01,  3.60413313e-01,  4.70427781e-01,\n",
       "               1.63093939e-01, -4.97494102e-01, -1.19476110e-01,\n",
       "               1.96224019e-01, -6.39860511e-01, -7.09144235e-01,\n",
       "               6.96429849e-01, -1.28584966e-01,  2.12393507e-01,\n",
       "               6.14963889e-01,  1.65768474e-01, -4.34715867e-01,\n",
       "               1.58351719e-01,  6.18380867e-02,  6.90180957e-01,\n",
       "              -8.78644109e-01, -6.38854742e-01, -5.96562564e-01,\n",
       "               5.46192110e-01, -3.54950905e-01, -4.69879568e-01,\n",
       "              -5.82074821e-01, -1.93510443e-01, -2.08449259e-01,\n",
       "              -4.66433436e-01, -1.07679404e-01, -4.98293817e-01,\n",
       "              -7.49777019e-01, -4.84861970e-01,  1.78747684e-01,\n",
       "               5.29750168e-01, -1.25579223e-01,  5.55612445e-01,\n",
       "               1.63234267e-02,  2.39009827e-01, -3.20960969e-01,\n",
       "              -7.39892796e-02, -8.53152096e-01, -2.40313187e-02,\n",
       "              -8.03066492e-01,  4.81812596e-01,  1.35807320e-01,\n",
       "               4.83513996e-02, -2.74999477e-02,  6.66518569e-01,\n",
       "              -1.95220351e-01, -4.93015170e-01, -8.60098481e-01,\n",
       "               1.05439037e-01,  2.60899574e-01, -3.08083743e-01,\n",
       "               3.07510257e-01,  1.89053848e-01,  3.23197633e-01,\n",
       "               7.29120135e-01,  6.47252619e-01,  4.23438370e-01,\n",
       "               8.98603797e-01,  1.38872245e-03, -1.20011091e-01,\n",
       "               1.39523879e-01, -6.87213719e-01,  3.06391031e-01,\n",
       "               6.09820783e-01, -7.13223219e-02, -4.33708876e-01,\n",
       "               4.96979291e-03, -9.80316382e-03,  1.35713354e-01,\n",
       "              -2.31265798e-01,  6.09820485e-01, -4.94237721e-01,\n",
       "              -6.43654615e-02, -5.53999364e-01,  3.20695490e-01,\n",
       "              -5.94317138e-01,  6.35606706e-01,  4.68436539e-01,\n",
       "              -4.02255833e-01,  3.52107920e-02,  3.88147563e-01,\n",
       "              -1.46944262e-02,  5.37602365e-01,  2.28515759e-01,\n",
       "               1.85515255e-01, -2.79665679e-01,  1.13598257e-02,\n",
       "               5.01495957e-01,  6.29359663e-01,  2.96025234e-03,\n",
       "              -8.48600030e-01, -3.35992306e-01, -5.15833855e-01,\n",
       "               2.77272195e-01, -6.89183772e-01,  2.33955413e-01,\n",
       "              -4.91609126e-01,  7.28326857e-01, -3.73514220e-02,\n",
       "              -3.13330367e-02, -1.64242983e-01,  1.86594248e-01,\n",
       "               5.57517409e-01,  4.58249092e-01,  6.52686693e-04,\n",
       "               2.05065474e-01,  1.66902065e-01, -1.48682371e-01,\n",
       "              -1.01529203e-01, -3.55590373e-01, -4.69131052e-01,\n",
       "               4.02679652e-01,  6.46825969e-01, -7.24483252e-01,\n",
       "              -7.63941407e-01, -1.72948644e-01, -4.42749351e-01,\n",
       "              -5.33045888e-01,  5.61461866e-01, -6.74823701e-01,\n",
       "              -5.51933706e-01,  5.41389465e-01, -1.60829559e-01,\n",
       "               2.00910792e-01, -4.02429163e-01, -3.41561824e-01,\n",
       "               7.12444410e-02, -2.48645425e-01,  2.02427432e-01,\n",
       "              -1.41571537e-01, -1.83872491e-01, -8.02606702e-01,\n",
       "               6.46067262e-01, -3.82994786e-02, -6.27397776e-01,\n",
       "              -8.41718912e-01, -3.11272651e-01,  4.01273705e-02,\n",
       "               2.26109415e-01, -1.39210179e-01,  2.73285478e-01,\n",
       "              -7.52800167e-01,  9.51786861e-02,  1.57085676e-02,\n",
       "              -3.90509218e-01, -7.02649802e-02,  4.31449950e-01,\n",
       "              -6.82536721e-01,  6.13804817e-01, -8.24463427e-01,\n",
       "               5.03405690e-01, -8.11781943e-01, -6.32243752e-01,\n",
       "               3.75827610e-01,  5.61114490e-01, -8.49422440e-02]],            dtype=float32), hidden_states=None, past_key_values=None, attentions=None, cross_attentions=None)"
      ]
     },
     "execution_count": 41,
     "metadata": {},
     "output_type": "execute_result"
    }
   ],
   "source": [
    "hidden_states"
   ]
  },
  {
   "cell_type": "code",
   "execution_count": 42,
   "id": "2ef8b8c9",
   "metadata": {},
   "outputs": [],
   "source": [
    "cam = jnp.array(np.random.rand(*hidden_states[1].shape))\n",
    "cam = cam / cam.sum()\n",
    "cam = bert_module.apply(variables, cam, input_ids, attention_mask, None, method=bert_module.relprop)"
   ]
  },
  {
   "cell_type": "code",
   "execution_count": 43,
   "id": "0171a1e8",
   "metadata": {},
   "outputs": [
    {
     "data": {
      "text/plain": [
       "[DeviceArray([[[ 3.2232713e-03,  1.8840600e-04,  2.4332281e-04, ...,\n",
       "                 1.4012388e-03,  1.9539725e-03,  2.0035658e-02],\n",
       "               [ 5.3010933e-04, -9.6512129e-05,  8.0519101e-05, ...,\n",
       "                -2.8975915e-06,  2.4951586e-07,  2.2727574e-05],\n",
       "               [ 2.8188466e-04,  1.6813600e-04,  2.7707119e-06, ...,\n",
       "                 8.7276339e-06, -2.5991199e-05,  1.7369130e-04],\n",
       "               [ 5.7742797e-04, -4.3127539e-08,  1.2448423e-07, ...,\n",
       "                 4.5172137e-04,  1.6437768e-04, -1.2961204e-06],\n",
       "               [ 2.0184058e-04,  4.6511533e-04,  1.3332981e-04, ...,\n",
       "                -5.1738010e-05,  2.7215676e-04, -8.2387458e-05]]],            dtype=float32),\n",
       " DeviceArray([[[ 9.4673916e-04,  1.8274126e-04,  1.3683217e-04, ...,\n",
       "                 1.4695181e-03,  5.6467979e-04, -1.3139717e-02],\n",
       "               [-2.5422843e-05,  1.4336115e-04,  5.7703070e-05, ...,\n",
       "                 4.9630376e-07, -1.3612440e-06,  5.6747649e-05],\n",
       "               [-1.3085324e-04,  4.3236967e-05,  9.1954289e-06, ...,\n",
       "                -1.3288001e-05, -3.0674204e-05,  1.2696418e-04],\n",
       "               [-1.2375348e-05, -1.8558241e-07, -2.0034436e-06, ...,\n",
       "                 2.0129068e-04, -3.5265348e-05,  6.1164237e-06],\n",
       "               [ 1.0161543e-04,  2.4100936e-04,  3.7978305e-05, ...,\n",
       "                -2.1103910e-05,  4.9760045e-05,  6.0061211e-05]]],            dtype=float32)]"
      ]
     },
     "execution_count": 43,
     "metadata": {},
     "output_type": "execute_result"
    }
   ],
   "source": [
    "cam"
   ]
  },
  {
   "cell_type": "code",
   "execution_count": 44,
   "id": "cf8b041c",
   "metadata": {},
   "outputs": [
    {
     "name": "stdout",
     "output_type": "stream",
     "text": [
      "2\n"
     ]
    }
   ],
   "source": [
    "print(len(cam))"
   ]
  },
  {
   "cell_type": "code",
   "execution_count": 45,
   "id": "15925ccb",
   "metadata": {},
   "outputs": [
    {
     "data": {
      "text/plain": [
       "DeviceArray(1.0000002, dtype=float32)"
      ]
     },
     "execution_count": 45,
     "metadata": {},
     "output_type": "execute_result"
    }
   ],
   "source": [
    "#cam[0] corresponds to position/token-type embeddings and cam[1] corresponds to token embeddings\n",
    "cam[0].sum() + cam[1].sum()"
   ]
  },
  {
   "cell_type": "code",
   "execution_count": 71,
   "id": "a8c58c6e",
   "metadata": {},
   "outputs": [],
   "source": [
    "inputs = tokenizer([\"Hello world!\",])\n",
    "input_ids = jnp.array(inputs[\"input_ids\"])\n",
    "token_ids = jnp.array(inputs[\"token_type_ids\"])\n",
    "attention_mask = jnp.array(inputs[\"attention_mask\"])\n",
    "position_ids = jnp.arange(input_ids.shape[0])\n",
    "\n",
    "seq_class_module = bert_layers.FlaxBertForSequenceClassificationModule(configuration)\n",
    "variables = seq_class_module.init(jax.random.PRNGKey(0), input_ids, attention_mask, token_ids, position_ids, None)\n",
    "hidden_states = seq_class_module.apply(variables, input_ids, attention_mask, token_ids, position_ids, None)"
   ]
  },
  {
   "cell_type": "code",
   "execution_count": 73,
   "id": "22e5d24e",
   "metadata": {},
   "outputs": [
    {
     "name": "stdout",
     "output_type": "stream",
     "text": [
      "[[0.82040316 0.17959687]] int32 int32\n"
     ]
    }
   ],
   "source": [
    "cam = jnp.array(np.random.rand(*hidden_states[0].shape))\n",
    "cam = cam / cam.sum()\n",
    "print(cam, input_ids.dtype, attention_mask.dtype)\n",
    "cam = seq_class_module.apply(variables, cam, input_ids, attention_mask, token_ids, position_ids, None, method=seq_class_module.relprop)"
   ]
  },
  {
   "cell_type": "code",
   "execution_count": 62,
   "id": "387a29dd",
   "metadata": {},
   "outputs": [],
   "source": [
    "model = bert_layers.FlaxBertForSequenceClassification(configuration)"
   ]
  },
  {
   "cell_type": "code",
   "execution_count": 64,
   "id": "bbe44266",
   "metadata": {},
   "outputs": [
    {
     "data": {
      "text/plain": [
       "FlaxSequenceClassifierOutput(logits=DeviceArray([[ 1.0231309 , -0.18921821]], dtype=float32), hidden_states=None, attentions=None)"
      ]
     },
     "execution_count": 64,
     "metadata": {},
     "output_type": "execute_result"
    }
   ],
   "source": [
    "output = model(input_ids)\n",
    "output"
   ]
  },
  {
   "cell_type": "code",
   "execution_count": 78,
   "id": "f5358efb",
   "metadata": {},
   "outputs": [
    {
     "data": {
      "text/plain": [
       "[DeviceArray([[[-9.8497968e-04,  2.5075275e-07,  3.2105399e-04, ...,\n",
       "                -6.8772458e-03, -2.3458910e-03, -9.2084100e-03],\n",
       "               [ 1.1722860e-02, -6.9105008e-05,  1.0484050e-02, ...,\n",
       "                -9.4426163e-03, -4.2159725e-03,  5.6059042e-04],\n",
       "               [-9.0922178e-05, -3.5654928e-08,  7.7627064e-06, ...,\n",
       "                -2.0889578e-04, -3.1042389e-05, -2.5963900e-05],\n",
       "               [ 4.9927854e-03,  1.3115408e-04, -2.3248696e-04, ...,\n",
       "                -1.6548664e-03,  5.0835941e-05, -2.5872296e-05],\n",
       "               [-9.9246390e-05, -4.6292516e-06, -2.3977894e-04, ...,\n",
       "                -6.1016774e-05, -2.4277764e-05,  1.8905023e-07]]],            dtype=float32),\n",
       " DeviceArray([[[-5.6007382e-04,  1.6211176e-06, -9.3178962e-05, ...,\n",
       "                 3.3156369e-03,  7.2201586e-04, -3.9590094e-03],\n",
       "               [-1.8556701e-03,  3.9240844e-05, -7.3660696e-03, ...,\n",
       "                -7.0078223e-04,  5.8974233e-04,  1.0548327e-03],\n",
       "               [-1.7764745e-05,  1.4868469e-07, -2.5911520e-06, ...,\n",
       "                 4.4417779e-05,  3.6584610e-05,  2.3069570e-06],\n",
       "               [ 5.9277134e-04, -2.6736711e-04, -3.6543599e-04, ...,\n",
       "                 1.1536477e-03,  1.8791191e-04,  4.2221855e-04],\n",
       "               [ 1.7829094e-05,  7.0723750e-06,  1.0948361e-04, ...,\n",
       "                 1.0223148e-05,  1.5647454e-05, -2.6783766e-07]]],            dtype=float32)]"
      ]
     },
     "execution_count": 78,
     "metadata": {},
     "output_type": "execute_result"
    }
   ],
   "source": [
    "cam = jnp.array(np.random.rand(*output[0].shape))\n",
    "model.relprop(cam, input_ids)"
   ]
  },
  {
   "cell_type": "code",
   "execution_count": null,
   "id": "9fe4f010",
   "metadata": {},
   "outputs": [],
   "source": []
  }
 ],
 "metadata": {
  "kernelspec": {
   "display_name": "dlsys",
   "language": "python",
   "name": "dlsys"
  },
  "language_info": {
   "codemirror_mode": {
    "name": "ipython",
    "version": 3
   },
   "file_extension": ".py",
   "mimetype": "text/x-python",
   "name": "python",
   "nbconvert_exporter": "python",
   "pygments_lexer": "ipython3",
   "version": "3.10.6"
  }
 },
 "nbformat": 4,
 "nbformat_minor": 5
}
