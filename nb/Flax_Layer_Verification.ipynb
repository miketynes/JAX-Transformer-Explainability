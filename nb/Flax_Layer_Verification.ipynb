{
 "cells": [
  {
   "cell_type": "code",
   "execution_count": 1,
   "id": "2fbfacf8",
   "metadata": {},
   "outputs": [],
   "source": [
    "%load_ext autoreload\n",
    "%autoreload 2"
   ]
  },
  {
   "cell_type": "code",
   "execution_count": 31,
   "id": "8ca68c66",
   "metadata": {},
   "outputs": [],
   "source": [
    "import sys\n",
    "import torch\n",
    "import torch.nn\n",
    "import jax\n",
    "import jax.numpy as jnp\n",
    "from jax import lax\n",
    "import flax\n",
    "import flax.linen as fnn\n",
    "import numpy as np\n",
    "from typing import Callable, Optional, Tuple, Union, Sequence, Iterable\n",
    "\n",
    "sys.path.append(\"../bert\")\n",
    "from transformers import BertConfig, BertTokenizer\n",
    "import modeling_flax_bert as bert_layers\n",
    "import bert_explainability_layers as ours"
   ]
  },
  {
   "cell_type": "code",
   "execution_count": 32,
   "id": "93c49be1",
   "metadata": {},
   "outputs": [],
   "source": [
    "def safe_divide(a, b):\n",
    "    den = b.clamp(min=1e-9) + b.clamp(max=1e-9)\n",
    "    den = den + den.eq(0).type(den.type()) * 1e-9\n",
    "    return a / den * b.ne(0).type(b.type())\n",
    "\n",
    "\n",
    "def forward_hook(self, input, output):\n",
    "    if type(input[0]) in (list, tuple):\n",
    "        self.X = []\n",
    "        for i in input[0]:\n",
    "            x = i.detach()\n",
    "            x.requires_grad = True\n",
    "            self.X.append(x)\n",
    "    else:\n",
    "        self.X = input[0].detach()\n",
    "        self.X.requires_grad = True\n",
    "\n",
    "    self.Y = output\n",
    "\n",
    "\n",
    "class RelProp(torch.nn.Module):\n",
    "    def __init__(self):\n",
    "        super(RelProp, self).__init__()\n",
    "        # if not self.training:\n",
    "        self.register_forward_hook(forward_hook)\n",
    "\n",
    "    def gradprop(self, Z, X, S):\n",
    "        C = torch.autograd.grad(Z, X, S, retain_graph=True)\n",
    "        return C\n",
    "\n",
    "    def relprop(self, R, alpha):\n",
    "        return R\n",
    "\n",
    "\n",
    "class RelPropSimple(RelProp):\n",
    "    def relprop(self, R, alpha):\n",
    "        Z = self.forward(self.X)\n",
    "        S = safe_divide(R, Z)\n",
    "        C = self.gradprop(Z, self.X, S)\n",
    "\n",
    "        if torch.is_tensor(self.X) == False:\n",
    "            outputs = []\n",
    "            outputs.append(self.X[0] * C[0])\n",
    "            outputs.append(self.X[1] * C[1])\n",
    "        else:\n",
    "            outputs = self.X * (C[0])\n",
    "        return outputs\n",
    "\n",
    "class MatMul(RelPropSimple):\n",
    "    def forward(self, inputs):\n",
    "        return torch.matmul(*inputs)\n",
    "    \n",
    "class Add(RelPropSimple):\n",
    "    def forward(self, inputs):\n",
    "        return torch.add(*inputs)\n",
    "\n",
    "    def relprop(self, R, alpha):\n",
    "        Z = self.forward(self.X)\n",
    "        S = safe_divide(R, Z)\n",
    "        C = self.gradprop(Z, self.X, S)\n",
    "\n",
    "        a = self.X[0] * C[0]\n",
    "        b = self.X[1] * C[1]\n",
    "\n",
    "        a_sum = a.sum()\n",
    "        b_sum = b.sum()\n",
    "\n",
    "        a_fact = safe_divide(a_sum.abs(), a_sum.abs() + b_sum.abs()) * R.sum()\n",
    "        b_fact = safe_divide(b_sum.abs(), a_sum.abs() + b_sum.abs()) * R.sum()\n",
    "\n",
    "        a = a * safe_divide(a_fact, a.sum())\n",
    "        b = b * safe_divide(b_fact, b.sum())\n",
    "\n",
    "        outputs = [a, b]\n",
    "        return outputs\n",
    "    \n",
    "class IndexSelect(RelProp):\n",
    "    def forward(self, inputs, dim, indices):\n",
    "        self.__setattr__('dim', dim)\n",
    "        self.__setattr__('indices', indices)\n",
    "\n",
    "        return torch.index_select(inputs, dim, indices)\n",
    "\n",
    "    def relprop(self, R, alpha):\n",
    "        Z = self.forward(self.X, self.dim, self.indices)\n",
    "        S = safe_divide(R, Z)\n",
    "        C = self.gradprop(Z, self.X, S)\n",
    "\n",
    "        if torch.is_tensor(self.X) == False:\n",
    "            outputs = []\n",
    "            outputs.append(self.X[0] * C[0])\n",
    "            outputs.append(self.X[1] * C[1])\n",
    "        else:\n",
    "            outputs = self.X * (C[0])\n",
    "        return outputs\n",
    "    \n",
    "class Clone(RelProp):\n",
    "    def forward(self, input, num):\n",
    "        self.__setattr__('num', num)\n",
    "        outputs = []\n",
    "        for _ in range(num):\n",
    "            outputs.append(input)\n",
    "\n",
    "        return outputs\n",
    "\n",
    "    def relprop(self, R, alpha):\n",
    "        Z = []\n",
    "        for _ in range(self.num):\n",
    "            Z.append(self.X)\n",
    "        S = [safe_divide(r, z) for r, z in zip(R, Z)]\n",
    "        C = self.gradprop(Z, self.X, S)[0]\n",
    "\n",
    "        R = self.X * C\n",
    "\n",
    "        return R"
   ]
  },
  {
   "cell_type": "code",
   "execution_count": 33,
   "id": "c8424b25",
   "metadata": {},
   "outputs": [
    {
     "data": {
      "text/plain": [
       "tensor([[-1., -1.],\n",
       "        [-1., -1.]])"
      ]
     },
     "execution_count": 33,
     "metadata": {},
     "output_type": "execute_result"
    }
   ],
   "source": [
    "A = torch.ones((2,2))\n",
    "B = torch.tensor([[-2., 1], [1, -2]])\n",
    "\n",
    "mm = MatMul()\n",
    "mm([A,B])"
   ]
  },
  {
   "cell_type": "code",
   "execution_count": 34,
   "id": "9b922586",
   "metadata": {},
   "outputs": [
    {
     "data": {
      "text/plain": [
       "[tensor([[ 2., -1.],\n",
       "         [ 0.,  0.]], grad_fn=<MulBackward0>),\n",
       " tensor([[ 2.,  0.],\n",
       "         [-1., -0.]], grad_fn=<MulBackward0>)]"
      ]
     },
     "execution_count": 34,
     "metadata": {},
     "output_type": "execute_result"
    }
   ],
   "source": [
    "mm.relprop(torch.tensor([[1.,0],[0,0]]), alpha=1)"
   ]
  },
  {
   "cell_type": "code",
   "execution_count": 35,
   "id": "04b4854b",
   "metadata": {},
   "outputs": [
    {
     "data": {
      "text/plain": [
       "tensor([[-1.,  2.],\n",
       "        [ 2., -1.]])"
      ]
     },
     "execution_count": 35,
     "metadata": {},
     "output_type": "execute_result"
    }
   ],
   "source": [
    "add = Add()\n",
    "add([A,B])"
   ]
  },
  {
   "cell_type": "code",
   "execution_count": 36,
   "id": "2a7f8981",
   "metadata": {},
   "outputs": [
    {
     "data": {
      "text/plain": [
       "[tensor([[0.3333, -0.0000],\n",
       "         [-0.0000, 0.0000]], grad_fn=<MulBackward0>),\n",
       " tensor([[0.6667, 0.0000],\n",
       "         [0.0000, 0.0000]], grad_fn=<MulBackward0>)]"
      ]
     },
     "execution_count": 36,
     "metadata": {},
     "output_type": "execute_result"
    }
   ],
   "source": [
    "add.relprop(torch.tensor([[1.,0],[0,0]]), alpha=1)"
   ]
  },
  {
   "cell_type": "code",
   "execution_count": 37,
   "id": "c9c61ab2",
   "metadata": {},
   "outputs": [
    {
     "data": {
      "text/plain": [
       "tensor([[-2.],\n",
       "        [ 1.]])"
      ]
     },
     "execution_count": 37,
     "metadata": {},
     "output_type": "execute_result"
    }
   ],
   "source": [
    "pool = IndexSelect()\n",
    "pool(B, 1, torch.zeros(1, dtype=torch.int32))"
   ]
  },
  {
   "cell_type": "code",
   "execution_count": 38,
   "id": "bc4c7b9d",
   "metadata": {},
   "outputs": [
    {
     "data": {
      "text/plain": [
       "tensor([[1., 0.],\n",
       "        [0., -0.]], grad_fn=<MulBackward0>)"
      ]
     },
     "execution_count": 38,
     "metadata": {},
     "output_type": "execute_result"
    }
   ],
   "source": [
    "pool.relprop(torch.tensor([[1.],[0]]), alpha=1)"
   ]
  },
  {
   "cell_type": "code",
   "execution_count": 39,
   "id": "4a67bc53",
   "metadata": {},
   "outputs": [
    {
     "data": {
      "text/plain": [
       "[tensor([[-2.,  1.],\n",
       "         [ 1., -2.]]),\n",
       " tensor([[-2.,  1.],\n",
       "         [ 1., -2.]])]"
      ]
     },
     "execution_count": 39,
     "metadata": {},
     "output_type": "execute_result"
    }
   ],
   "source": [
    "clone = Clone()\n",
    "clone(B, 2)"
   ]
  },
  {
   "cell_type": "code",
   "execution_count": 40,
   "id": "87014753",
   "metadata": {},
   "outputs": [
    {
     "data": {
      "text/plain": [
       "tensor([[0.5000, 0.7500],\n",
       "        [0.2500, 0.5000]], grad_fn=<MulBackward0>)"
      ]
     },
     "execution_count": 40,
     "metadata": {},
     "output_type": "execute_result"
    }
   ],
   "source": [
    "clone.relprop([torch.tensor([[.5,.5],[0,0]]), torch.tensor([[0,.25],[.25,.5]])], alpha=1)"
   ]
  },
  {
   "cell_type": "markdown",
   "id": "4935164c",
   "metadata": {},
   "source": [
    "It looks like clone is necessary because of the way pyTorch tracks gradients. Working out the math, I think the relprop works out to a sum over all of the relevances (which intuitively also makes sense). For this reason, I didn't include \"clone\" in the Flax layers I implemented and whenever I saw a clone.relprop in the pyTorch version, I added the relevances in the Jax version"
   ]
  },
  {
   "cell_type": "code",
   "execution_count": 41,
   "id": "83bd099d",
   "metadata": {},
   "outputs": [
    {
     "data": {
      "text/plain": [
       "DeviceArray([[-1., -1.],\n",
       "             [-1., -1.]], dtype=float32)"
      ]
     },
     "execution_count": 41,
     "metadata": {},
     "output_type": "execute_result"
    }
   ],
   "source": [
    "A = jnp.ones((2,2))\n",
    "B = jnp.array([[-2., 1], [1, -2]])\n",
    "\n",
    "jmm = ours.MatMul()\n",
    "jmm(A,B)"
   ]
  },
  {
   "cell_type": "code",
   "execution_count": 42,
   "id": "a72fbce9",
   "metadata": {},
   "outputs": [
    {
     "data": {
      "text/plain": [
       "[DeviceArray([[ 2., -1.],\n",
       "              [ 0.,  0.]], dtype=float32),\n",
       " DeviceArray([[ 2.,  0.],\n",
       "              [-1., -0.]], dtype=float32)]"
      ]
     },
     "execution_count": 42,
     "metadata": {},
     "output_type": "execute_result"
    }
   ],
   "source": [
    "jmm.relprop(jnp.array([[1.,0],[0,0]]), A, B)"
   ]
  },
  {
   "cell_type": "code",
   "execution_count": 43,
   "id": "3bee406c",
   "metadata": {},
   "outputs": [
    {
     "data": {
      "text/plain": [
       "DeviceArray([[-1.,  2.],\n",
       "             [ 2., -1.]], dtype=float32)"
      ]
     },
     "execution_count": 43,
     "metadata": {},
     "output_type": "execute_result"
    }
   ],
   "source": [
    "j_add = ours.Add()\n",
    "j_add(A,B)"
   ]
  },
  {
   "cell_type": "code",
   "execution_count": 44,
   "id": "9f4fc5d4",
   "metadata": {},
   "outputs": [
    {
     "data": {
      "text/plain": [
       "[DeviceArray([[ 0.33333334, -0.        ],\n",
       "              [-0.        ,  0.        ]], dtype=float32),\n",
       " DeviceArray([[0.6666667, 0.       ],\n",
       "              [0.       , 0.       ]], dtype=float32)]"
      ]
     },
     "execution_count": 44,
     "metadata": {},
     "output_type": "execute_result"
    }
   ],
   "source": [
    "j_add.relprop(jnp.array([[1.,0],[0,0]]), A, B)"
   ]
  },
  {
   "cell_type": "code",
   "execution_count": 45,
   "id": "139425a9",
   "metadata": {},
   "outputs": [
    {
     "data": {
      "text/plain": [
       "DeviceArray([[-2.],\n",
       "             [ 1.]], dtype=float32)"
      ]
     },
     "execution_count": 45,
     "metadata": {},
     "output_type": "execute_result"
    }
   ],
   "source": [
    "jax_pool = ours.IndexSelect()\n",
    "jax_pool(B, 1, jnp.zeros(1, dtype=jnp.int32))"
   ]
  },
  {
   "cell_type": "code",
   "execution_count": 46,
   "id": "154ae920",
   "metadata": {},
   "outputs": [
    {
     "data": {
      "text/plain": [
       "DeviceArray([[ 1.,  0.],\n",
       "             [ 0., -0.]], dtype=float32)"
      ]
     },
     "execution_count": 46,
     "metadata": {},
     "output_type": "execute_result"
    }
   ],
   "source": [
    "jax_pool.relprop(jnp.array([[1.],[0]]), B, 1, jnp.zeros(1, dtype=jnp.int32))"
   ]
  },
  {
   "cell_type": "code",
   "execution_count": 19,
   "id": "3942e8ec",
   "metadata": {},
   "outputs": [
    {
     "name": "stdout",
     "output_type": "stream",
     "text": [
      "FrozenDict({\n",
      "    kernel: DeviceArray([[ 1.53342038e-01,  3.29581231e-01],\n",
      "                 [ 4.70121145e-01,  1.81581691e-01],\n",
      "                 [ 1.80420190e-01,  3.35969597e-01],\n",
      "                 [-1.62113383e-01, -2.02395543e-01],\n",
      "                 [-1.18919984e-01, -6.62900805e-02],\n",
      "                 [-4.10243064e-01,  7.33509436e-02],\n",
      "                 [ 4.96547073e-02, -2.71931272e-02],\n",
      "                 [-2.19073966e-01,  4.65010494e-01],\n",
      "                 [ 1.54693127e-02,  1.10250756e-01],\n",
      "                 [-3.89764100e-01,  8.84109288e-02],\n",
      "                 [-3.79199862e-01, -2.35682800e-02],\n",
      "                 [ 3.24670374e-01,  2.04515398e-01],\n",
      "                 [ 1.44210760e-04,  1.65998340e-01],\n",
      "                 [-3.36234242e-01, -3.94779295e-01],\n",
      "                 [-1.40488684e-01, -5.03639765e-02],\n",
      "                 [-2.11226270e-02,  2.08313853e-01],\n",
      "                 [ 9.56470072e-02,  2.05471292e-01],\n",
      "                 [-9.69679356e-02, -3.74182016e-01],\n",
      "                 [-3.60750526e-01,  1.26213387e-01],\n",
      "                 [-1.55270472e-01,  3.00449669e-01]], dtype=float32),\n",
      "    bias: DeviceArray([0., 0.], dtype=float32),\n",
      "})\n"
     ]
    }
   ],
   "source": [
    "jax_dense = ours.Dense(2)\n",
    "x = jnp.ones((1,20))\n",
    "variables = jax_dense.init(jax.random.PRNGKey(0), x)\n",
    "model = jax_dense.bind(variables)\n",
    "model(x)\n",
    "variables\n",
    "print(model.variables[\"params\"])"
   ]
  },
  {
   "cell_type": "code",
   "execution_count": 20,
   "id": "92569ec8",
   "metadata": {},
   "outputs": [
    {
     "data": {
      "text/plain": [
       "DeviceArray([[1.1891876e-01, 3.6458510e-01, 1.3991822e-01, 0.0000000e+00,\n",
       "              0.0000000e+00, 0.0000000e+00, 3.8507875e-02, 0.0000000e+00,\n",
       "              1.1996655e-02, 0.0000000e+00, 0.0000000e+00, 2.5178614e-01,\n",
       "              1.1183733e-04, 0.0000000e+00, 0.0000000e+00, 0.0000000e+00,\n",
       "              7.4175507e-02, 0.0000000e+00, 0.0000000e+00, 0.0000000e+00]],            dtype=float32)"
      ]
     },
     "execution_count": 20,
     "metadata": {},
     "output_type": "execute_result"
    }
   ],
   "source": [
    "model.relprop(jnp.array([[1.,0]]), x)"
   ]
  },
  {
   "cell_type": "code",
   "execution_count": 47,
   "id": "9a164535",
   "metadata": {},
   "outputs": [],
   "source": [
    "tokenizer = BertTokenizer.from_pretrained(\"bert-base-uncased\")\n",
    "configuration = BertConfig()"
   ]
  },
  {
   "cell_type": "code",
   "execution_count": 48,
   "id": "5d36f3c3",
   "metadata": {},
   "outputs": [],
   "source": [
    "inputs = tokenizer(\"Hello world!\")\n",
    "input_ids = jnp.array(inputs[\"input_ids\"])\n",
    "token_ids = jnp.array(inputs[\"token_type_ids\"])\n",
    "attention_mask = jnp.array(inputs[\"attention_mask\"])\n",
    "position_ids = jnp.arange(input_ids.shape[0])"
   ]
  },
  {
   "cell_type": "code",
   "execution_count": 49,
   "id": "4f5da0e3",
   "metadata": {
    "scrolled": false
   },
   "outputs": [],
   "source": [
    "embedding_layer = bert_layers.FlaxBertEmbeddings(configuration)\n",
    "variables = embedding_layer.init(jax.random.PRNGKey(0), input_ids, token_ids,  position_ids, attention_mask)"
   ]
  },
  {
   "cell_type": "code",
   "execution_count": 50,
   "id": "f8f81f30",
   "metadata": {},
   "outputs": [
    {
     "data": {
      "text/plain": [
       "(1, 5, 768)"
      ]
     },
     "execution_count": 50,
     "metadata": {},
     "output_type": "execute_result"
    }
   ],
   "source": [
    "output = embedding_layer.apply(variables, input_ids, token_ids, position_ids, attention_mask)\n",
    "embedding_layer.apply(variables, output, input_ids, token_ids, position_ids, attention_mask, method=embedding_layer.relprop)\n",
    "output = output[jnp.newaxis]\n",
    "output.shape"
   ]
  },
  {
   "cell_type": "code",
   "execution_count": 51,
   "id": "e7f72b63",
   "metadata": {
    "scrolled": true
   },
   "outputs": [],
   "source": [
    "attention = bert_layers.FlaxBertAttention(configuration)\n",
    "variables = attention.init(jax.random.PRNGKey(0), output, attention_mask, None)\n",
    "hidden_states = attention.apply(variables, output, attention_mask, None)"
   ]
  },
  {
   "cell_type": "code",
   "execution_count": 52,
   "id": "def523a1",
   "metadata": {},
   "outputs": [
    {
     "name": "stdout",
     "output_type": "stream",
     "text": [
      "(DeviceArray([[[-0.56294453,  1.0679047 ,  1.1388769 , ...,  0.39261633,\n",
      "               -1.4752828 ,  1.9199177 ],\n",
      "              [-1.1342766 , -0.7030669 , -0.18691307, ...,  2.3455684 ,\n",
      "                1.5618547 , -0.48230216],\n",
      "              [ 0.35637683, -0.39173928,  0.1297656 , ...,  1.4595735 ,\n",
      "                0.5980807 ,  0.19320047],\n",
      "              [ 0.66311115,  1.5822634 ,  1.1960373 , ..., -0.13444665,\n",
      "                1.0535946 ,  1.4545076 ],\n",
      "              [ 0.5495986 , -0.10840828, -0.42316678, ...,  0.598222  ,\n",
      "                1.625095  ,  1.389647  ]]], dtype=float32),)\n"
     ]
    }
   ],
   "source": [
    "print(hidden_states)"
   ]
  },
  {
   "cell_type": "code",
   "execution_count": 64,
   "id": "1f96703a",
   "metadata": {},
   "outputs": [
    {
     "data": {
      "text/plain": [
       "DeviceArray([[[1.5862346e-04, 3.4134588e-04, 4.3500646e-04, ...,\n",
       "               2.4813239e-04, 2.8730359e-05, 2.3901957e-04],\n",
       "              [6.4698499e-05, 1.3880285e-04, 8.1970022e-05, ...,\n",
       "               1.4927814e-04, 6.8905219e-06, 3.4883863e-04],\n",
       "              [2.5487348e-04, 4.2201468e-04, 4.9790664e-04, ...,\n",
       "               6.4399610e-05, 3.4115190e-04, 1.1278792e-04],\n",
       "              [3.4541208e-05, 4.9971341e-04, 8.6375505e-05, ...,\n",
       "               1.8742368e-04, 1.1919927e-04, 2.5305376e-04],\n",
       "              [4.9182947e-04, 3.0515232e-04, 2.1039491e-04, ...,\n",
       "               4.5212384e-04, 4.7184789e-04, 1.6803121e-04]]],            dtype=float32)"
      ]
     },
     "execution_count": 64,
     "metadata": {},
     "output_type": "execute_result"
    }
   ],
   "source": [
    "cam = jnp.array(np.random.rand(*hidden_states[0].shape))\n",
    "cam = cam / cam.sum()\n",
    "cam"
   ]
  },
  {
   "cell_type": "code",
   "execution_count": 66,
   "id": "85e780d9",
   "metadata": {},
   "outputs": [
    {
     "name": "stdout",
     "output_type": "stream",
     "text": [
      "CAM: [[[1.5862346e-04 3.4134588e-04 4.3500646e-04 ... 2.4813239e-04\n",
      "   2.8730359e-05 2.3901957e-04]\n",
      "  [6.4698499e-05 1.3880285e-04 8.1970022e-05 ... 1.4927814e-04\n",
      "   6.8905219e-06 3.4883863e-04]\n",
      "  [2.5487348e-04 4.2201468e-04 4.9790664e-04 ... 6.4399610e-05\n",
      "   3.4115190e-04 1.1278792e-04]\n",
      "  [3.4541208e-05 4.9971341e-04 8.6375505e-05 ... 1.8742368e-04\n",
      "   1.1919927e-04 2.5305376e-04]\n",
      "  [4.9182947e-04 3.0515232e-04 2.1039491e-04 ... 4.5212384e-04\n",
      "   4.7184789e-04 1.6803121e-04]]]\n",
      "Dropout: [[[ 0.22248834 -0.01172732  0.37502575 ...  0.43499708  0.11476218\n",
      "    0.20412494]\n",
      "  [ 0.24330458  0.01846182  0.37363368 ...  0.39203686  0.13324705\n",
      "    0.19083147]\n",
      "  [ 0.26380512  0.02816542  0.36352172 ...  0.44176722  0.12059104\n",
      "    0.1863118 ]\n",
      "  [ 0.29731175  0.00489232  0.34569857 ...  0.43914324  0.13150395\n",
      "    0.17871302]\n",
      "  [ 0.24196245  0.02608497  0.34836513 ...  0.44917923  0.08554332\n",
      "    0.17359   ]]]\n",
      "Input Tensor: [[[-0.8081451   1.1146805   0.80141324 ... -0.03124941 -1.64507\n",
      "    1.7810174 ]\n",
      "  [-1.4258113  -0.75209403 -0.5699676  ...  2.047855    1.4908258\n",
      "   -0.69465524]\n",
      "  [ 0.10321857 -0.43325582 -0.23037845 ...  1.0638415   0.4958899\n",
      "    0.0123012 ]\n",
      "  [ 0.38263318  1.619421    0.8817929  ... -0.57863647  0.94963706\n",
      "    1.3143398 ]\n",
      "  [ 0.3203707  -0.13870612 -0.7838516  ...  0.16302972  1.5799866\n",
      "    1.2504277 ]]]\n",
      "-0.04386548 1.0438654 1.0000001\n",
      "Facts: 0.040327515 0.95967263\n",
      "Relprop: [[[ 5.5400043e-05  3.3366823e-06 -1.2748702e-04 ... -2.4577536e-04\n",
      "    1.9807956e-06 -2.2595214e-05]\n",
      "  [ 1.2238254e-05  3.2112430e-06  1.4341160e-04 ... -2.2051147e-05\n",
      "   -5.1973598e-07  1.2147153e-04]\n",
      "  [-1.6841947e-04  2.6975555e-05 -1.2497917e-03 ... -1.7371734e-05\n",
      "   -6.1351013e-05 -9.7268865e-05]\n",
      "  [-1.3885274e-05 -1.3837084e-06 -2.2363936e-05 ...  5.4244552e-04\n",
      "   -1.3329340e-05 -2.7846618e-05]\n",
      "  [-1.9455724e-04  6.4977903e-05  1.5472974e-04 ... -3.0496920e-04\n",
      "   -2.2279955e-05 -1.8831195e-05]]] [[[ 2.01229748e-04  3.17151367e-04  2.72434030e-04 ... -1.76560625e-05\n",
      "    2.83939098e-05  1.97146277e-04]\n",
      "  [ 7.17185030e-05  1.30818968e-04  2.18770350e-04 ...  1.15186995e-04\n",
      "    5.81503127e-06  4.42174671e-04]\n",
      "  [ 6.58971985e-05  4.14952723e-04 -7.92043633e-04 ...  4.18337331e-05\n",
      "    2.52285332e-04  6.42215991e-06]\n",
      "  [ 1.78700175e-05  4.58025344e-04  5.70449592e-05 ...  7.14752590e-04\n",
      "    9.62559279e-05  2.04797136e-04]\n",
      "  [ 2.57603795e-04  3.45518201e-04  3.48155270e-04 ...  1.10688656e-04\n",
      "    4.11511137e-04  1.35647497e-04]]]\n"
     ]
    },
    {
     "data": {
      "text/plain": [
       "DeviceArray([[[ 1.98149457e-04,  3.42299114e-04,  2.94019294e-04, ...,\n",
       "               -1.79213130e-05,  8.56812949e-06,  2.19850524e-04],\n",
       "              [-2.83737597e-03, -8.74250603e-04, -6.51159207e-05, ...,\n",
       "                8.60234490e-04,  1.82910822e-03,  9.70344350e-04],\n",
       "              [ 1.34632573e-04,  1.56228809e-04, -1.17633003e-03, ...,\n",
       "                1.49306247e-03,  6.89799432e-04,  3.04724472e-06],\n",
       "              [ 6.37599296e-05,  1.55628280e-04,  9.63787606e-05, ...,\n",
       "                6.21967425e-04, -8.81010637e-05,  1.30146625e-04],\n",
       "              [ 2.55513762e-04,  3.39580321e-04,  4.00387042e-04, ...,\n",
       "                1.08731794e-04,  3.51434166e-04,  1.12680173e-04]]],            dtype=float32)"
      ]
     },
     "execution_count": 66,
     "metadata": {},
     "output_type": "execute_result"
    }
   ],
   "source": [
    "attention.apply(variables, cam, output, None, None, method=attention.relprop)"
   ]
  }
 ],
 "metadata": {
  "kernelspec": {
   "display_name": "dlsys",
   "language": "python",
   "name": "dlsys"
  },
  "language_info": {
   "codemirror_mode": {
    "name": "ipython",
    "version": 3
   },
   "file_extension": ".py",
   "mimetype": "text/x-python",
   "name": "python",
   "nbconvert_exporter": "python",
   "pygments_lexer": "ipython3",
   "version": "3.10.6"
  }
 },
 "nbformat": 4,
 "nbformat_minor": 5
}
