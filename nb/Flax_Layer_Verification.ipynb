{
 "cells": [
  {
   "cell_type": "code",
   "execution_count": 4,
   "id": "8ca68c66",
   "metadata": {},
   "outputs": [
    {
     "name": "stderr",
     "output_type": "stream",
     "text": [
      "/local/.conda/envs/dl_sys/lib/python3.10/site-packages/tqdm/auto.py:22: TqdmWarning: IProgress not found. Please update jupyter and ipywidgets. See https://ipywidgets.readthedocs.io/en/stable/user_install.html\n",
      "  from .autonotebook import tqdm as notebook_tqdm\n"
     ]
    }
   ],
   "source": [
    "import torch\n",
    "import torch.nn\n",
    "import jax\n",
    "import jax.numpy as jnp\n",
    "from jax import lax\n",
    "import flax\n",
    "import flax.linen as fnn\n",
    "import numpy as np\n",
    "from typing import Callable, Optional, Tuple, Union, Sequence, Iterable"
   ]
  },
  {
   "cell_type": "code",
   "execution_count": 5,
   "id": "93c49be1",
   "metadata": {},
   "outputs": [],
   "source": [
    "def safe_divide(a, b):\n",
    "    den = b.clamp(min=1e-9) + b.clamp(max=1e-9)\n",
    "    den = den + den.eq(0).type(den.type()) * 1e-9\n",
    "    return a / den * b.ne(0).type(b.type())\n",
    "\n",
    "\n",
    "def forward_hook(self, input, output):\n",
    "    if type(input[0]) in (list, tuple):\n",
    "        self.X = []\n",
    "        for i in input[0]:\n",
    "            x = i.detach()\n",
    "            x.requires_grad = True\n",
    "            self.X.append(x)\n",
    "    else:\n",
    "        self.X = input[0].detach()\n",
    "        self.X.requires_grad = True\n",
    "\n",
    "    self.Y = output\n",
    "\n",
    "\n",
    "class RelProp(torch.nn.Module):\n",
    "    def __init__(self):\n",
    "        super(RelProp, self).__init__()\n",
    "        # if not self.training:\n",
    "        self.register_forward_hook(forward_hook)\n",
    "\n",
    "    def gradprop(self, Z, X, S):\n",
    "        C = torch.autograd.grad(Z, X, S, retain_graph=True)\n",
    "        return C\n",
    "\n",
    "    def relprop(self, R, alpha):\n",
    "        return R\n",
    "\n",
    "\n",
    "class RelPropSimple(RelProp):\n",
    "    def relprop(self, R, alpha):\n",
    "        Z = self.forward(self.X)\n",
    "        S = safe_divide(R, Z)\n",
    "        C = self.gradprop(Z, self.X, S)\n",
    "\n",
    "        if torch.is_tensor(self.X) == False:\n",
    "            outputs = []\n",
    "            outputs.append(self.X[0] * C[0])\n",
    "            outputs.append(self.X[1] * C[1])\n",
    "        else:\n",
    "            outputs = self.X * (C[0])\n",
    "        return outputs\n",
    "\n",
    "class MatMul(RelPropSimple):\n",
    "    def forward(self, inputs):\n",
    "        return torch.matmul(*inputs)\n",
    "    \n",
    "class Add(RelPropSimple):\n",
    "    def forward(self, inputs):\n",
    "        return torch.add(*inputs)\n",
    "\n",
    "    def relprop(self, R, alpha):\n",
    "        Z = self.forward(self.X)\n",
    "        S = safe_divide(R, Z)\n",
    "        C = self.gradprop(Z, self.X, S)\n",
    "\n",
    "        a = self.X[0] * C[0]\n",
    "        b = self.X[1] * C[1]\n",
    "\n",
    "        a_sum = a.sum()\n",
    "        b_sum = b.sum()\n",
    "\n",
    "        a_fact = safe_divide(a_sum.abs(), a_sum.abs() + b_sum.abs()) * R.sum()\n",
    "        b_fact = safe_divide(b_sum.abs(), a_sum.abs() + b_sum.abs()) * R.sum()\n",
    "\n",
    "        a = a * safe_divide(a_fact, a.sum())\n",
    "        b = b * safe_divide(b_fact, b.sum())\n",
    "\n",
    "        outputs = [a, b]\n",
    "        return outputs\n",
    "    \n",
    "class IndexSelect(RelProp):\n",
    "    def forward(self, inputs, dim, indices):\n",
    "        self.__setattr__('dim', dim)\n",
    "        self.__setattr__('indices', indices)\n",
    "\n",
    "        return torch.index_select(inputs, dim, indices)\n",
    "\n",
    "    def relprop(self, R, alpha):\n",
    "        Z = self.forward(self.X, self.dim, self.indices)\n",
    "        S = safe_divide(R, Z)\n",
    "        C = self.gradprop(Z, self.X, S)\n",
    "\n",
    "        if torch.is_tensor(self.X) == False:\n",
    "            outputs = []\n",
    "            outputs.append(self.X[0] * C[0])\n",
    "            outputs.append(self.X[1] * C[1])\n",
    "        else:\n",
    "            outputs = self.X * (C[0])\n",
    "        return outputs\n",
    "    \n",
    "class Clone(RelProp):\n",
    "    def forward(self, input, num):\n",
    "        self.__setattr__('num', num)\n",
    "        outputs = []\n",
    "        for _ in range(num):\n",
    "            outputs.append(input)\n",
    "\n",
    "        return outputs\n",
    "\n",
    "    def relprop(self, R, alpha):\n",
    "        Z = []\n",
    "        for _ in range(self.num):\n",
    "            Z.append(self.X)\n",
    "        S = [safe_divide(r, z) for r, z in zip(R, Z)]\n",
    "        C = self.gradprop(Z, self.X, S)[0]\n",
    "\n",
    "        R = self.X * C\n",
    "\n",
    "        return R"
   ]
  },
  {
   "cell_type": "code",
   "execution_count": 6,
   "id": "c8424b25",
   "metadata": {},
   "outputs": [
    {
     "data": {
      "text/plain": [
       "tensor([[-1., -1.],\n",
       "        [-1., -1.]])"
      ]
     },
     "execution_count": 6,
     "metadata": {},
     "output_type": "execute_result"
    }
   ],
   "source": [
    "A = torch.ones((2,2))\n",
    "B = torch.tensor([[-2., 1], [1, -2]])\n",
    "\n",
    "mm = MatMul()\n",
    "mm([A,B])"
   ]
  },
  {
   "cell_type": "code",
   "execution_count": 7,
   "id": "9b922586",
   "metadata": {},
   "outputs": [
    {
     "data": {
      "text/plain": [
       "[tensor([[ 2., -1.],\n",
       "         [ 0.,  0.]], grad_fn=<MulBackward0>),\n",
       " tensor([[ 2.,  0.],\n",
       "         [-1., -0.]], grad_fn=<MulBackward0>)]"
      ]
     },
     "execution_count": 7,
     "metadata": {},
     "output_type": "execute_result"
    }
   ],
   "source": [
    "mm.relprop(torch.tensor([[1.,0],[0,0]]), alpha=1)"
   ]
  },
  {
   "cell_type": "code",
   "execution_count": 8,
   "id": "04b4854b",
   "metadata": {},
   "outputs": [
    {
     "data": {
      "text/plain": [
       "tensor([[-1.,  2.],\n",
       "        [ 2., -1.]])"
      ]
     },
     "execution_count": 8,
     "metadata": {},
     "output_type": "execute_result"
    }
   ],
   "source": [
    "add = Add()\n",
    "add([A,B])"
   ]
  },
  {
   "cell_type": "code",
   "execution_count": 9,
   "id": "2a7f8981",
   "metadata": {},
   "outputs": [
    {
     "data": {
      "text/plain": [
       "[tensor([[0.3333, -0.0000],\n",
       "         [-0.0000, 0.0000]], grad_fn=<MulBackward0>),\n",
       " tensor([[0.6667, 0.0000],\n",
       "         [0.0000, 0.0000]], grad_fn=<MulBackward0>)]"
      ]
     },
     "execution_count": 9,
     "metadata": {},
     "output_type": "execute_result"
    }
   ],
   "source": [
    "add.relprop(torch.tensor([[1.,0],[0,0]]), alpha=1)"
   ]
  },
  {
   "cell_type": "code",
   "execution_count": 10,
   "id": "c9c61ab2",
   "metadata": {},
   "outputs": [
    {
     "data": {
      "text/plain": [
       "tensor([[-2.],\n",
       "        [ 1.]])"
      ]
     },
     "execution_count": 10,
     "metadata": {},
     "output_type": "execute_result"
    }
   ],
   "source": [
    "pool = IndexSelect()\n",
    "pool(B, 1, torch.zeros(1, dtype=torch.int32))"
   ]
  },
  {
   "cell_type": "code",
   "execution_count": 11,
   "id": "bc4c7b9d",
   "metadata": {},
   "outputs": [
    {
     "data": {
      "text/plain": [
       "tensor([[1., 0.],\n",
       "        [0., -0.]], grad_fn=<MulBackward0>)"
      ]
     },
     "execution_count": 11,
     "metadata": {},
     "output_type": "execute_result"
    }
   ],
   "source": [
    "pool.relprop(torch.tensor([[1.],[0]]), alpha=1)"
   ]
  },
  {
   "cell_type": "code",
   "execution_count": 12,
   "id": "c4c46b9d",
   "metadata": {},
   "outputs": [
    {
     "data": {
      "text/plain": [
       "[tensor([[-2.,  1.],\n",
       "         [ 1., -2.]]),\n",
       " tensor([[-2.,  1.],\n",
       "         [ 1., -2.]])]"
      ]
     },
     "execution_count": 12,
     "metadata": {},
     "output_type": "execute_result"
    }
   ],
   "source": [
    "clone = Clone()\n",
    "clone(B, 2)"
   ]
  },
  {
   "cell_type": "code",
   "execution_count": 16,
   "id": "598dceac",
   "metadata": {},
   "outputs": [
    {
     "data": {
      "text/plain": [
       "tensor([[0.5000, 0.7500],\n",
       "        [0.2500, 0.5000]], grad_fn=<MulBackward0>)"
      ]
     },
     "execution_count": 16,
     "metadata": {},
     "output_type": "execute_result"
    }
   ],
   "source": [
    "clone.relprop([torch.tensor([[.5,.5],[0,0]]), torch.tensor([[0,.25],[.25,.5]])], alpha=1)"
   ]
  },
  {
   "cell_type": "markdown",
   "id": "81343e28",
   "metadata": {},
   "source": [
    "It looks like clone is necessary because of the way pyTorch tracks gradients. Working out the math, I think the relprop works out to a sum over all of the relevances (which intuitively also makes sense). For this reason, I didn't include \"clone\" in the Flax layers I implemented and whenever I saw a clone.relprop in the pyTorch version, I added the relevances in the Jax version"
   ]
  },
  {
   "cell_type": "code",
   "execution_count": 220,
   "id": "3a185b9a",
   "metadata": {},
   "outputs": [],
   "source": [
    "def jax_safe_divide(a, b):\n",
    "    den = jnp.clip(b, a_min=1e-9) + jnp.clip(b, a_max=1e-9)\n",
    "    den = den + (den == 0).astype(den.dtype) * 1e-9\n",
    "    return a / den * (b != 0).astype(b.dtype)\n",
    "\n",
    "class JaxRelProp(fnn.Module):\n",
    "    def relprop(self, R):\n",
    "        return R\n",
    "\n",
    "\n",
    "class JaxRelPropSimple(JaxRelProp):\n",
    "    def relprop(self, cam, *inputs, **kwargs):\n",
    "        z, grad_func = jax.vjp(lambda *i : self.__call__(*i, **kwargs), *inputs)\n",
    "        s = jax_safe_divide(cam, z)\n",
    "        c = grad_func(s)\n",
    "\n",
    "        if len(inputs) > 1:\n",
    "            # We only ever take te relevence propogation with respect to the first two positional arguments\n",
    "            outputs = []\n",
    "            outputs.append(inputs[0] * c[0])\n",
    "            outputs.append(inputs[1] * c[1])\n",
    "        else:\n",
    "            outputs = inputs[0] * (c[0])\n",
    "        return outputs\n",
    "\n",
    "class JaxMatMul(JaxRelPropSimple):\n",
    "    def __call__(self, *inputs):\n",
    "        return jnp.matmul(*inputs)\n",
    "    \n",
    "class JaxAdd(JaxRelPropSimple):\n",
    "    def __call__(self, *inputs):\n",
    "        return jnp.add(*inputs)\n",
    "    \n",
    "    def relprop(self, cam, *inputs, **kwargs):\n",
    "        z, grad_func = jax.vjp(lambda *i : self.__call__(*i), *inputs)\n",
    "        s = jax_safe_divide(cam, z)\n",
    "        c = grad_func(s)\n",
    "\n",
    "        a = inputs[0] * c[0]\n",
    "        b = inputs[1] * c[1]\n",
    "\n",
    "        a_sum = a.sum()\n",
    "        b_sum = b.sum()\n",
    "\n",
    "        a_fact = jax_safe_divide(jnp.abs(a_sum), jnp.abs(a_sum) + jnp.abs(b_sum)) * cam.sum()\n",
    "        b_fact = jax_safe_divide(jnp.abs(b_sum), jnp.abs(a_sum) + jnp.abs(b_sum)) * cam.sum()\n",
    "\n",
    "        a = a * jax_safe_divide(a_fact, a.sum())\n",
    "        b = b * jax_safe_divide(b_fact, b.sum())\n",
    "\n",
    "        outputs = [a, b]\n",
    "\n",
    "        return outputs\n",
    "\n",
    "class JaxIndexSelect(JaxRelProp):\n",
    "    def __call__(self, inputs, dim, indices):\n",
    "        return jnp.take(inputs, indices, axis=dim)\n",
    "\n",
    "    def relprop(self, cam, *inputs):\n",
    "        (inputs, dim, indices) = inputs\n",
    "        z, grad_func = jax.vjp(lambda i : self.__call__(i, dim, indices), inputs)\n",
    "        s = jax_safe_divide(cam, z)\n",
    "        c = grad_func(s)\n",
    "        outputs = inputs * (c[0])\n",
    "        return outputs"
   ]
  },
  {
   "cell_type": "code",
   "execution_count": 221,
   "id": "83bd099d",
   "metadata": {},
   "outputs": [
    {
     "data": {
      "text/plain": [
       "DeviceArray([[-1., -1.],\n",
       "             [-1., -1.]], dtype=float32)"
      ]
     },
     "execution_count": 221,
     "metadata": {},
     "output_type": "execute_result"
    }
   ],
   "source": [
    "A = jnp.ones((2,2))\n",
    "B = jnp.array([[-2., 1], [1, -2]])\n",
    "\n",
    "jmm = JaxMatMul()\n",
    "jmm(A,B)"
   ]
  },
  {
   "cell_type": "code",
   "execution_count": 222,
   "id": "a72fbce9",
   "metadata": {},
   "outputs": [
    {
     "data": {
      "text/plain": [
       "[DeviceArray([[ 2., -1.],\n",
       "              [ 0.,  0.]], dtype=float32),\n",
       " DeviceArray([[ 2.,  0.],\n",
       "              [-1., -0.]], dtype=float32)]"
      ]
     },
     "execution_count": 222,
     "metadata": {},
     "output_type": "execute_result"
    }
   ],
   "source": [
    "jmm.relprop(jnp.array([[1.,0],[0,0]]), A, B)"
   ]
  },
  {
   "cell_type": "code",
   "execution_count": 223,
   "id": "3bee406c",
   "metadata": {},
   "outputs": [
    {
     "data": {
      "text/plain": [
       "DeviceArray([[-1.,  2.],\n",
       "             [ 2., -1.]], dtype=float32)"
      ]
     },
     "execution_count": 223,
     "metadata": {},
     "output_type": "execute_result"
    }
   ],
   "source": [
    "j_add = JaxAdd()\n",
    "j_add(A,B)"
   ]
  },
  {
   "cell_type": "code",
   "execution_count": 224,
   "id": "9f4fc5d4",
   "metadata": {},
   "outputs": [
    {
     "data": {
      "text/plain": [
       "[DeviceArray([[ 0.33333334, -0.        ],\n",
       "              [-0.        ,  0.        ]], dtype=float32),\n",
       " DeviceArray([[0.6666667, 0.       ],\n",
       "              [0.       , 0.       ]], dtype=float32)]"
      ]
     },
     "execution_count": 224,
     "metadata": {},
     "output_type": "execute_result"
    }
   ],
   "source": [
    "j_add.relprop(jnp.array([[1.,0],[0,0]]), A, B)"
   ]
  },
  {
   "cell_type": "code",
   "execution_count": 225,
   "id": "139425a9",
   "metadata": {},
   "outputs": [
    {
     "data": {
      "text/plain": [
       "DeviceArray([[-2.],\n",
       "             [ 1.]], dtype=float32)"
      ]
     },
     "execution_count": 225,
     "metadata": {},
     "output_type": "execute_result"
    }
   ],
   "source": [
    "jax_pool = JaxIndexSelect()\n",
    "jax_pool(B, 1, jnp.zeros(1, dtype=jnp.int32))"
   ]
  },
  {
   "cell_type": "code",
   "execution_count": 226,
   "id": "154ae920",
   "metadata": {},
   "outputs": [
    {
     "data": {
      "text/plain": [
       "DeviceArray([[ 1.,  0.],\n",
       "             [ 0., -0.]], dtype=float32)"
      ]
     },
     "execution_count": 226,
     "metadata": {},
     "output_type": "execute_result"
    }
   ],
   "source": [
    "jax_pool.relprop(jnp.array([[1.],[0]]), B, 1, jnp.zeros(1, dtype=jnp.int32))"
   ]
  },
  {
   "cell_type": "code",
   "execution_count": 245,
   "id": "f75293f6",
   "metadata": {},
   "outputs": [],
   "source": [
    "class JaxDense(fnn.Dense, JaxRelProp):\n",
    "    def relprop(self, R, *inputs, alpha=1):\n",
    "        inputs = inputs[0]\n",
    "        beta = alpha - 1\n",
    "        j, k = x.shape[-1], self.features\n",
    "        w = self.variables[\"params\"][\"kernel\"]\n",
    "        pw = jnp.clip(w, a_min=0)\n",
    "        nw = jnp.clip(w, a_max=0)\n",
    "        px = jnp.clip(x, a_min=0)\n",
    "        nx = jnp.clip(x, a_max=0)\n",
    "        \n",
    "        def __f(R, w1, w2, x1, x2):\n",
    "            z1, vjp_x1 = jax.vjp(lambda x: jnp.dot(x,w1), x1)\n",
    "            z2, vjp_x2 = jax.vjp(lambda x: jnp.dot(x,w2), x2)\n",
    "            s1 = jax_safe_divide(R, z1 + z2)\n",
    "            s2 = jax_safe_divide(R, z1 + z2)\n",
    "\n",
    "            c1 = x1 * vjp_x1(s1)[0]\n",
    "            c2 = x2 * vjp_x2(s2)[0]\n",
    "\n",
    "            return c1 + c2\n",
    "\n",
    "        activator_relevances = __f(R, pw, nw, px, nx)\n",
    "        inhibitor_relevances = __f(R, nw, pw, px, nx)\n",
    "        R = alpha * activator_relevances - beta * inhibitor_relevances\n",
    "\n",
    "        return R\n",
    "    "
   ]
  },
  {
   "cell_type": "code",
   "execution_count": 243,
   "id": "3942e8ec",
   "metadata": {},
   "outputs": [
    {
     "name": "stdout",
     "output_type": "stream",
     "text": [
      "FrozenDict({\n",
      "    kernel: DeviceArray([[ 1.53342038e-01,  3.29581231e-01],\n",
      "                 [ 4.70121145e-01,  1.81581691e-01],\n",
      "                 [ 1.80420190e-01,  3.35969597e-01],\n",
      "                 [-1.62113383e-01, -2.02395543e-01],\n",
      "                 [-1.18919984e-01, -6.62900805e-02],\n",
      "                 [-4.10243064e-01,  7.33509436e-02],\n",
      "                 [ 4.96547073e-02, -2.71931272e-02],\n",
      "                 [-2.19073966e-01,  4.65010494e-01],\n",
      "                 [ 1.54693127e-02,  1.10250756e-01],\n",
      "                 [-3.89764100e-01,  8.84109288e-02],\n",
      "                 [-3.79199862e-01, -2.35682800e-02],\n",
      "                 [ 3.24670374e-01,  2.04515398e-01],\n",
      "                 [ 1.44210760e-04,  1.65998340e-01],\n",
      "                 [-3.36234242e-01, -3.94779295e-01],\n",
      "                 [-1.40488684e-01, -5.03639765e-02],\n",
      "                 [-2.11226270e-02,  2.08313853e-01],\n",
      "                 [ 9.56470072e-02,  2.05471292e-01],\n",
      "                 [-9.69679356e-02, -3.74182016e-01],\n",
      "                 [-3.60750526e-01,  1.26213387e-01],\n",
      "                 [-1.55270472e-01,  3.00449669e-01]], dtype=float32),\n",
      "    bias: DeviceArray([0., 0.], dtype=float32),\n",
      "})\n"
     ]
    }
   ],
   "source": [
    "jax_dense = JaxDense(2)\n",
    "x = jnp.ones((1,20))\n",
    "variables = jax_dense.init(jax.random.PRNGKey(0), x)\n",
    "model = jax_dense.bind(variables)\n",
    "model(x)\n",
    "variables\n",
    "print(model.variables[\"params\"])"
   ]
  },
  {
   "cell_type": "code",
   "execution_count": 244,
   "id": "92569ec8",
   "metadata": {},
   "outputs": [
    {
     "data": {
      "text/plain": [
       "DeviceArray([[1.1891876e-01, 3.6458510e-01, 1.3991822e-01, 0.0000000e+00,\n",
       "              0.0000000e+00, 0.0000000e+00, 3.8507875e-02, 0.0000000e+00,\n",
       "              1.1996655e-02, 0.0000000e+00, 0.0000000e+00, 2.5178614e-01,\n",
       "              1.1183733e-04, 0.0000000e+00, 0.0000000e+00, 0.0000000e+00,\n",
       "              7.4175507e-02, 0.0000000e+00, 0.0000000e+00, 0.0000000e+00]],            dtype=float32)"
      ]
     },
     "execution_count": 244,
     "metadata": {},
     "output_type": "execute_result"
    }
   ],
   "source": [
    "model.relprop(jnp.array([[1.,0]]), x)"
   ]
  },
  {
   "cell_type": "code",
   "execution_count": 158,
   "id": "a3a9ba7f",
   "metadata": {},
   "outputs": [
    {
     "name": "stdout",
     "output_type": "stream",
     "text": [
      "<bound method JaxRelProp.relprop of JaxDense()>\n"
     ]
    }
   ],
   "source": [
    "print(model.relprop)"
   ]
  },
  {
   "cell_type": "code",
   "execution_count": null,
   "id": "57328058",
   "metadata": {},
   "outputs": [],
   "source": []
  }
 ],
 "metadata": {
  "kernelspec": {
   "display_name": "dlsys",
   "language": "python",
   "name": "dlsys"
  },
  "language_info": {
   "codemirror_mode": {
    "name": "ipython",
    "version": 3
   },
   "file_extension": ".py",
   "mimetype": "text/x-python",
   "name": "python",
   "nbconvert_exporter": "python",
   "pygments_lexer": "ipython3",
   "version": "3.10.6"
  }
 },
 "nbformat": 4,
 "nbformat_minor": 5
}
