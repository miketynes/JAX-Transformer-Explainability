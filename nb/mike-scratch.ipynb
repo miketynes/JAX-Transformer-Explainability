{
 "cells": [
  {
   "cell_type": "code",
   "execution_count": 1,
   "id": "ce004349-e7b0-4028-8ecb-71bbd9aef574",
   "metadata": {},
   "outputs": [
    {
     "name": "stderr",
     "output_type": "stream",
     "text": [
      "/home/mike/miniconda3/envs/TransformerExplainability/lib/python3.10/site-packages/tqdm/auto.py:22: TqdmWarning: IProgress not found. Please update jupyter and ipywidgets. See https://ipywidgets.readthedocs.io/en/stable/user_install.html\n",
      "  from .autonotebook import tqdm as notebook_tqdm\n"
     ]
    }
   ],
   "source": [
    "import torch \n",
    "from torch import nn\n",
    "\n",
    "from modules import layers_ours as layers\n",
    "\n",
    "%load_ext autoreload\n",
    "%autoreload 2"
   ]
  },
  {
   "cell_type": "markdown",
   "id": "6cb24bdf-2996-491a-b4e6-8aa6b0c12835",
   "metadata": {},
   "source": [
    "## Their linear layer and relprop"
   ]
  },
  {
   "cell_type": "markdown",
   "id": "7a0b68f6-8a58-412a-9b91-7d8c6e38bee3",
   "metadata": {},
   "source": [
    "We put a single instance of thier linear layer into a network to test agains "
   ]
  },
  {
   "cell_type": "code",
   "execution_count": 2,
   "id": "3f9c9b1e-b8c5-4958-b87a-643759a50b37",
   "metadata": {
    "tags": []
   },
   "outputs": [],
   "source": [
    "class TestNet(nn.Module): \n",
    "    \n",
    "    def __init__(self): \n",
    "        super().__init__()\n",
    "        self.linear = layers.Linear(5, 5, bias=False)\n",
    "    \n",
    "    def forward(self, x):\n",
    "        out = self.linear(x)\n",
    "        return out\n",
    "    \n",
    "    def relprop(self, y): \n",
    "        kwargs = {'alpha': 1} # this is how they do it in the relprop repo\n",
    "        return self.linear.relprop(y, **kwargs)"
   ]
  },
  {
   "cell_type": "code",
   "execution_count": 3,
   "id": "e58d60b3-e211-4e66-80a6-5001c22e2d56",
   "metadata": {},
   "outputs": [],
   "source": [
    "X_t = torch.rand((1,5))"
   ]
  },
  {
   "cell_type": "code",
   "execution_count": 4,
   "id": "248ba05b-1d14-49b3-bff2-9551a257a62b",
   "metadata": {},
   "outputs": [
    {
     "data": {
      "text/plain": [
       "tensor([[0.6789, 0.6927, 0.1304, 0.1509, 0.1421]])"
      ]
     },
     "execution_count": 4,
     "metadata": {},
     "output_type": "execute_result"
    }
   ],
   "source": [
    "X_t"
   ]
  },
  {
   "cell_type": "code",
   "execution_count": 5,
   "id": "7f8d0068-9686-4ea5-ab31-22bca9e93811",
   "metadata": {},
   "outputs": [],
   "source": [
    "test_net = TestNet()"
   ]
  },
  {
   "cell_type": "code",
   "execution_count": 6,
   "id": "2a5773bd-66ce-4345-9a83-74901adc0313",
   "metadata": {},
   "outputs": [
    {
     "data": {
      "text/plain": [
       "tensor([[-0.3315, -0.2612,  0.0834, -0.1305, -0.3100]], grad_fn=<MmBackward0>)"
      ]
     },
     "execution_count": 6,
     "metadata": {},
     "output_type": "execute_result"
    }
   ],
   "source": [
    "out_t = test_net.forward(X_t)\n",
    "out_t"
   ]
  },
  {
   "cell_type": "code",
   "execution_count": 7,
   "id": "af5d9ae6-0265-4e9c-9349-3d265a35c579",
   "metadata": {
    "tags": []
   },
   "outputs": [
    {
     "name": "stdout",
     "output_type": "stream",
     "text": [
      "tensor([[0.0101, 0.0580, 0.2691, 0.0455, 0.0475]], grad_fn=<MmBackward0>)\n",
      "tensor([[-32.7458,  -4.5056,   0.3097,  -2.8677,  -6.5285]],\n",
      "       grad_fn=<MulBackward0>)\n",
      "tensor([[0.6789, 0.6927, 0.1304, 0.1509, 0.1421]], requires_grad=True)\n",
      "RETURNING JUST C\n"
     ]
    },
    {
     "data": {
      "text/plain": [
       "tensor([[ 0.0000,  0.0378, -4.5270,  0.0000, -2.7136]])"
      ]
     },
     "execution_count": 7,
     "metadata": {},
     "output_type": "execute_result"
    }
   ],
   "source": [
    "relprop_t = test_net.relprop(out_t)\n",
    "relprop_t"
   ]
  },
  {
   "cell_type": "code",
   "execution_count": null,
   "id": "2faddd4e-c9e0-4db0-8271-7cbcfdecb282",
   "metadata": {},
   "outputs": [],
   "source": []
  },
  {
   "cell_type": "markdown",
   "id": "df315fb9-966d-4ce0-9d6a-d63b3cebf950",
   "metadata": {},
   "source": [
    "## Jax implementation of linear layer relprop"
   ]
  },
  {
   "cell_type": "code",
   "execution_count": 8,
   "id": "28176aa7-f418-43b0-b0ca-680dcd0829ec",
   "metadata": {},
   "outputs": [],
   "source": [
    "import jax.numpy as jnp\n",
    "import jax.nn as jnn\n",
    "import jax"
   ]
  },
  {
   "cell_type": "markdown",
   "id": "a901f696-59c2-4d28-9fa1-b3c386b8188b",
   "metadata": {},
   "source": [
    "We test the linear layer and relprop against the same input"
   ]
  },
  {
   "cell_type": "code",
   "execution_count": 9,
   "id": "c8e7e50c-2a6c-4227-ba9f-500403d0b03e",
   "metadata": {},
   "outputs": [
    {
     "name": "stderr",
     "output_type": "stream",
     "text": [
      "WARNING:jax._src.lib.xla_bridge:No GPU/TPU found, falling back to CPU. (Set TF_CPP_MIN_LOG_LEVEL=0 and rerun for more info.)\n"
     ]
    },
    {
     "data": {
      "text/plain": [
       "DeviceArray([[0.67891246, 0.69272023, 0.13040155, 0.15086126, 0.14212435]],            dtype=float32)"
      ]
     },
     "execution_count": 9,
     "metadata": {},
     "output_type": "execute_result"
    }
   ],
   "source": [
    "X_j = jnp.array(X_t)\n",
    "X_j"
   ]
  },
  {
   "cell_type": "markdown",
   "id": "0c316c0c-01ac-4b17-b1e5-feefa9076ad1",
   "metadata": {},
   "source": [
    "Grab the params from the torch net"
   ]
  },
  {
   "cell_type": "code",
   "execution_count": 10,
   "id": "3629b1f4-32aa-4dcf-a596-ea202c677d89",
   "metadata": {},
   "outputs": [
    {
     "data": {
      "text/plain": [
       "DeviceArray([[-0.07250727, -0.4038238 ,  0.05131372, -0.08358306,\n",
       "               0.0241376 ],\n",
       "             [-0.33375564, -0.04740531,  0.44456163, -0.16668098,\n",
       "              -0.24337842],\n",
       "             [-0.20267841,  0.32940978, -0.05643311, -0.27050206,\n",
       "               0.28800365],\n",
       "             [-0.13518845,  0.0223879 ,  0.2300261 , -0.15898027,\n",
       "              -0.4238099 ],\n",
       "             [-0.07810157, -0.35893023,  0.02818899, -0.37012824,\n",
       "               0.30825394]], dtype=float32)"
      ]
     },
     "execution_count": 10,
     "metadata": {},
     "output_type": "execute_result"
    }
   ],
   "source": [
    "params = jnp.array(test_net.linear.weight.detach().numpy())\n",
    "params"
   ]
  },
  {
   "cell_type": "code",
   "execution_count": 11,
   "id": "29668895-1cea-40a6-88a1-0ae092f99dfa",
   "metadata": {},
   "outputs": [],
   "source": [
    "def j_linear(A, x): \n",
    "    \"\"\"like torch.F.linear but in jax\"\"\"\n",
    "    return x @ A.T"
   ]
  },
  {
   "cell_type": "code",
   "execution_count": 12,
   "id": "32543ec4-a29c-47ab-b8b1-0f36bb483b37",
   "metadata": {},
   "outputs": [],
   "source": [
    "def forward(params, x): \n",
    "    out = j_linear(params, x)\n",
    "    return out"
   ]
  },
  {
   "cell_type": "code",
   "execution_count": 13,
   "id": "14fefa60-064b-4a37-af68-22cc67101458",
   "metadata": {},
   "outputs": [],
   "source": [
    "backward = jax.jacfwd(forward, 1)"
   ]
  },
  {
   "cell_type": "code",
   "execution_count": 14,
   "id": "027b989d-ab70-40e1-9ba1-b0fe0809c8a6",
   "metadata": {},
   "outputs": [
    {
     "data": {
      "text/plain": [
       "DeviceArray([[2., 0.],\n",
       "             [0., 2.]], dtype=float32)"
      ]
     },
     "execution_count": 14,
     "metadata": {},
     "output_type": "execute_result"
    }
   ],
   "source": [
    "backward(jnp.asarray([[2., 0.], [0., 2.]]), jnp.asarray([1.,1.]))"
   ]
  },
  {
   "cell_type": "code",
   "execution_count": 15,
   "id": "a93d133b-5efb-4701-83eb-382864eaa6f3",
   "metadata": {},
   "outputs": [
    {
     "data": {
      "text/plain": [
       "(5, 5)"
      ]
     },
     "execution_count": 15,
     "metadata": {},
     "output_type": "execute_result"
    }
   ],
   "source": [
    "params.shape"
   ]
  },
  {
   "cell_type": "code",
   "execution_count": 16,
   "id": "55958709-674c-4fdf-82a4-f2261a4a50a1",
   "metadata": {},
   "outputs": [
    {
     "data": {
      "text/plain": [
       "DeviceArray([[-0.33145052, -0.26119366,  0.08335301, -0.13049448,\n",
       "              -0.3100141 ]], dtype=float32)"
      ]
     },
     "execution_count": 16,
     "metadata": {},
     "output_type": "execute_result"
    }
   ],
   "source": [
    "out_j = forward(params, X_j)\n",
    "out_j"
   ]
  },
  {
   "cell_type": "code",
   "execution_count": 17,
   "id": "ae75de2c-cbf9-4695-85d4-4d85ae9948bd",
   "metadata": {},
   "outputs": [
    {
     "data": {
      "text/plain": [
       "tensor([[-0.3315, -0.2612,  0.0834, -0.1305, -0.3100]], grad_fn=<MmBackward0>)"
      ]
     },
     "execution_count": 17,
     "metadata": {},
     "output_type": "execute_result"
    }
   ],
   "source": [
    "out_t"
   ]
  },
  {
   "cell_type": "code",
   "execution_count": 18,
   "id": "4d60c258-0b6c-48ea-8fd4-4cb6eaf213fa",
   "metadata": {},
   "outputs": [
    {
     "data": {
      "text/plain": [
       "DeviceArray([[-0.07250727, -0.4038238 ,  0.05131372, -0.08358306,\n",
       "               0.0241376 ],\n",
       "             [-0.33375564, -0.04740531,  0.44456163, -0.16668098,\n",
       "              -0.24337842],\n",
       "             [-0.20267841,  0.32940978, -0.05643311, -0.27050206,\n",
       "               0.28800365],\n",
       "             [-0.13518845,  0.0223879 ,  0.2300261 , -0.15898027,\n",
       "              -0.4238099 ],\n",
       "             [-0.07810157, -0.35893023,  0.02818899, -0.37012824,\n",
       "               0.30825394]], dtype=float32)"
      ]
     },
     "execution_count": 18,
     "metadata": {},
     "output_type": "execute_result"
    }
   ],
   "source": [
    "backward(params, X_j.squeeze())"
   ]
  },
  {
   "cell_type": "code",
   "execution_count": 19,
   "id": "e0da3fed-2ca3-4d00-a716-66b64b996999",
   "metadata": {},
   "outputs": [],
   "source": [
    "import numpy as np"
   ]
  },
  {
   "cell_type": "markdown",
   "id": "6ee7c275-b9b2-44f4-aaad-6ed12c8c810a",
   "metadata": {},
   "source": [
    "Is the forward pass OK? "
   ]
  },
  {
   "cell_type": "code",
   "execution_count": 20,
   "id": "6cdcb700-bf2f-4748-857e-4041339353bd",
   "metadata": {},
   "outputs": [
    {
     "data": {
      "text/plain": [
       "True"
      ]
     },
     "execution_count": 20,
     "metadata": {},
     "output_type": "execute_result"
    }
   ],
   "source": [
    "np.allclose(np.array(out_j), out_t.detach().numpy())"
   ]
  },
  {
   "cell_type": "markdown",
   "id": "8346630e-aa6d-4d5e-af57-96114a37a789",
   "metadata": {},
   "source": [
    "cool, now for the hard part. "
   ]
  },
  {
   "cell_type": "code",
   "execution_count": 21,
   "id": "8b6c3ad2-4f1b-46a3-9d95-5ed0c775ca08",
   "metadata": {},
   "outputs": [],
   "source": [
    "from jax import jit"
   ]
  },
  {
   "cell_type": "code",
   "execution_count": 22,
   "id": "737250ab-aa19-45e4-a163-ffba70a7caf2",
   "metadata": {},
   "outputs": [],
   "source": [
    "@jit\n",
    "def safe_divide(a, b):\n",
    "    den = jnp.clip(b, a_min=1e-9) + jnp.clip(b, a_max=1e-9)\n",
    "    den = den + (den == 0).astype(den.dtype) * 1e-9\n",
    "    return a / den * (b != 0).astype(b.dtype)"
   ]
  },
  {
   "cell_type": "code",
   "execution_count": 23,
   "id": "d19292e3-eb8b-4687-ac7d-6e3383c8b9a3",
   "metadata": {},
   "outputs": [
    {
     "data": {
      "text/plain": [
       "DeviceArray([[-0.10679914, -0.58295363,  0.39350545, -0.55403924,\n",
       "               0.16983438],\n",
       "             [-0.49160334, -0.06843356,  3.4091744 , -1.1048627 ,\n",
       "              -1.7124329 ],\n",
       "             [-0.29853395,  0.47553074, -0.4327641 , -1.7930518 ,\n",
       "               2.02642   ],\n",
       "             [-0.199125  ,  0.03231882,  1.7639828 , -1.0538176 ,\n",
       "              -2.9819653 ],\n",
       "             [-0.11503923, -0.51814604,  0.2161707 , -2.4534347 ,\n",
       "               2.168903  ]], dtype=float32)"
      ]
     },
     "execution_count": 23,
     "metadata": {},
     "output_type": "execute_result"
    }
   ],
   "source": [
    "safe_divide(params, X_j)"
   ]
  },
  {
   "cell_type": "code",
   "execution_count": 30,
   "id": "e18abbd4-ace3-4d54-bc8b-a320024f9987",
   "metadata": {},
   "outputs": [
    {
     "data": {
      "text/plain": [
       "\u001b[0;31mSignature:\u001b[0m \u001b[0mjax\u001b[0m\u001b[0;34m.\u001b[0m\u001b[0mjvp\u001b[0m\u001b[0;34m(\u001b[0m\u001b[0mfun\u001b[0m\u001b[0;34m:\u001b[0m \u001b[0;34m'Callable'\u001b[0m\u001b[0;34m,\u001b[0m \u001b[0mprimals\u001b[0m\u001b[0;34m,\u001b[0m \u001b[0mtangents\u001b[0m\u001b[0;34m,\u001b[0m \u001b[0mhas_aux\u001b[0m\u001b[0;34m:\u001b[0m \u001b[0;34m'bool'\u001b[0m \u001b[0;34m=\u001b[0m \u001b[0;32mFalse\u001b[0m\u001b[0;34m)\u001b[0m \u001b[0;34m->\u001b[0m \u001b[0;34m'Tuple[Any, ...]'\u001b[0m\u001b[0;34m\u001b[0m\u001b[0;34m\u001b[0m\u001b[0m\n",
       "\u001b[0;31mDocstring:\u001b[0m\n",
       "Computes a (forward-mode) Jacobian-vector product of ``fun``.\n",
       "\n",
       "Args:\n",
       "  fun: Function to be differentiated. Its arguments should be arrays, scalars,\n",
       "    or standard Python containers of arrays or scalars. It should return an\n",
       "    array, scalar, or standard Python container of arrays or scalars.\n",
       "  primals: The primal values at which the Jacobian of ``fun`` should be\n",
       "    evaluated. Should be either a tuple or a list of arguments,\n",
       "    and its length should be equal to the number of positional parameters of\n",
       "    ``fun``.\n",
       "  tangents: The tangent vector for which the Jacobian-vector product should be\n",
       "    evaluated. Should be either a tuple or a list of tangents, with the same\n",
       "    tree structure and array shapes as ``primals``.\n",
       "  has_aux: Optional, bool. Indicates whether ``fun`` returns a pair where the\n",
       "   first element is considered the output of the mathematical function to be\n",
       "   differentiated and the second element is auxiliary data. Default False.\n",
       "\n",
       "Returns:\n",
       "  If ``has_aux`` is ``False``, returns a ``(primals_out, tangents_out)`` pair,\n",
       "  where ``primals_out`` is ``fun(*primals)``,\n",
       "  and ``tangents_out`` is the Jacobian-vector product of\n",
       "  ``function`` evaluated at ``primals`` with ``tangents``. The\n",
       "  ``tangents_out`` value has the same Python tree structure and shapes as\n",
       "  ``primals_out``. If ``has_aux`` is ``True``, returns a\n",
       "  ``(primals_out, tangents_out, aux)`` tuple where ``aux``\n",
       "  is the auxiliary data returned by ``fun``.\n",
       "\n",
       "For example:\n",
       "\n",
       ">>> import jax\n",
       ">>>\n",
       ">>> primals, tangents = jax.jvp(jax.numpy.sin, (0.1,), (0.2,))\n",
       ">>> print(primals)\n",
       "0.09983342\n",
       ">>> print(tangents)\n",
       "0.19900084\n",
       "\u001b[0;31mFile:\u001b[0m      ~/miniconda3/envs/TransformerExplainability/lib/python3.10/site-packages/jax/_src/api.py\n",
       "\u001b[0;31mType:\u001b[0m      function\n"
      ]
     },
     "metadata": {},
     "output_type": "display_data"
    }
   ],
   "source": [
    "?jax.jvp"
   ]
  },
  {
   "cell_type": "code",
   "execution_count": 62,
   "id": "63296467-46d2-45e5-95a0-1a261b66ead3",
   "metadata": {},
   "outputs": [],
   "source": [
    "def linear_relprop(R, x, params, alpha=1): \n",
    "    beta = alpha - 1\n",
    "    pw = jnp.clip(params, a_min=0)\n",
    "    nw = jnp.clip(params, a_max=0)\n",
    "    px = jnp.clip(x,      a_min=0)\n",
    "    nx = jnp.clip(x,      a_max=0)\n",
    "    \n",
    "    def f(w1, w2, x1, x2): \n",
    "        z1 = j_linear(w1, x1) \n",
    "        z2 = j_linear(w2, x2)\n",
    "        s1 = safe_divide(R, z1+z2) # why are there two of these\n",
    "        s2 = safe_divide(R, z1+z2) # for gradient reasons? \n",
    "        \n",
    "        print(z1)\n",
    "        print(s1)\n",
    "        print(x1)\n",
    "        \n",
    "        print(f'R: {R.shape}, s:{s1.shape}, z: {z1.shape}, x: {x1.shape}')\n",
    "        f = lambda x : j_linear(w1, x)\n",
    "        _, b_func = jax.vjp(f, x1)\n",
    "        c1 = b_func(s1)\n",
    "        #c1 = jax.jvp(f, (x1,), (s1,))\n",
    "        #b = backward(params, x1.squeeze())\n",
    "        #print(b)\n",
    "        #print(params.shape, b.shape)\n",
    "        #c1 = (s1 @ b.T)\n",
    "        #print(f'R: {R.shape}, s:{s1.shape}, z: {z1.shape}, x: {x1.shape}, c:{c1.shape}')\n",
    "        return c1\n",
    "    \n",
    "    return f(pw, nw, px, nx)"
   ]
  },
  {
   "cell_type": "code",
   "execution_count": 63,
   "id": "a00d7127-e8b1-4a9a-85ab-ac9d7f29e0f9",
   "metadata": {
    "tags": []
   },
   "outputs": [
    {
     "name": "stdout",
     "output_type": "stream",
     "text": [
      "[[0.01012193 0.05797153 0.26912114 0.04550431 0.04748628]]\n",
      "[[-32.74578    -4.505551    0.309723   -2.8677387  -6.5284977]]\n",
      "[[0.67891246 0.69272023 0.13040155 0.15086126 0.14212435]]\n",
      "R: (1, 5), s:(1, 5), z: (1, 5), x: (1, 5)\n"
     ]
    },
    {
     "data": {
      "text/plain": [
       "(DeviceArray([[ 0.        ,  0.03782313, -4.5269895 ,  0.        ,\n",
       "               -2.7136385 ]], dtype=float32),)"
      ]
     },
     "execution_count": 63,
     "metadata": {},
     "output_type": "execute_result"
    }
   ],
   "source": [
    "linear_relprop(out_j, X_j, params)"
   ]
  },
  {
   "cell_type": "code",
   "execution_count": 64,
   "id": "a84b5623-8d84-45b0-a701-628720700894",
   "metadata": {},
   "outputs": [
    {
     "name": "stdout",
     "output_type": "stream",
     "text": [
      "tensor([[0.0101, 0.0580, 0.2691, 0.0455, 0.0475]], grad_fn=<MmBackward0>)\n",
      "tensor([[-32.7458,  -4.5056,   0.3097,  -2.8677,  -6.5285]],\n",
      "       grad_fn=<MulBackward0>)\n",
      "tensor([[0.6789, 0.6927, 0.1304, 0.1509, 0.1421]], requires_grad=True)\n",
      "RETURNING JUST C\n"
     ]
    },
    {
     "data": {
      "text/plain": [
       "tensor([[ 0.0000,  0.0378, -4.5270,  0.0000, -2.7136]])"
      ]
     },
     "execution_count": 64,
     "metadata": {},
     "output_type": "execute_result"
    }
   ],
   "source": [
    "test_net.relprop(out_t)"
   ]
  },
  {
   "cell_type": "code",
   "execution_count": null,
   "id": "070e045a-03cb-4e2c-9148-3ce580738999",
   "metadata": {},
   "outputs": [],
   "source": []
  }
 ],
 "metadata": {
  "kernelspec": {
   "display_name": "Python 3 (ipykernel)",
   "language": "python",
   "name": "python3"
  },
  "language_info": {
   "codemirror_mode": {
    "name": "ipython",
    "version": 3
   },
   "file_extension": ".py",
   "mimetype": "text/x-python",
   "name": "python",
   "nbconvert_exporter": "python",
   "pygments_lexer": "ipython3",
   "version": "3.10.6"
  }
 },
 "nbformat": 4,
 "nbformat_minor": 5
}
