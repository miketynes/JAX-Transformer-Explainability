{
 "cells": [
  {
   "cell_type": "code",
   "execution_count": 1,
   "id": "ce004349-e7b0-4028-8ecb-71bbd9aef574",
   "metadata": {},
   "outputs": [
    {
     "name": "stderr",
     "output_type": "stream",
     "text": [
      "/home/mike/miniconda3/envs/TransformerExplainability/lib/python3.10/site-packages/tqdm/auto.py:22: TqdmWarning: IProgress not found. Please update jupyter and ipywidgets. See https://ipywidgets.readthedocs.io/en/stable/user_install.html\n",
      "  from .autonotebook import tqdm as notebook_tqdm\n"
     ]
    }
   ],
   "source": [
    "import torch \n",
    "from torch import nn\n",
    "\n",
    "from modules import layers_ours as layers\n",
    "\n",
    "%load_ext autoreload\n",
    "%autoreload 2"
   ]
  },
  {
   "cell_type": "markdown",
   "id": "6cb24bdf-2996-491a-b4e6-8aa6b0c12835",
   "metadata": {},
   "source": [
    "## Their linear layer and relprop"
   ]
  },
  {
   "cell_type": "markdown",
   "id": "7a0b68f6-8a58-412a-9b91-7d8c6e38bee3",
   "metadata": {},
   "source": [
    "We put a single instance of thier linear layer into a network to test agains "
   ]
  },
  {
   "cell_type": "code",
   "execution_count": 8,
   "id": "3f9c9b1e-b8c5-4958-b87a-643759a50b37",
   "metadata": {
    "tags": []
   },
   "outputs": [],
   "source": [
    "class TestNet(nn.Module): \n",
    "    \n",
    "    def __init__(self): \n",
    "        super().__init__()\n",
    "        self.linear = layers.Linear(5, 5, bias=False)\n",
    "    \n",
    "    def forward(self, x):\n",
    "        out = self.linear(x)\n",
    "        return out\n",
    "    \n",
    "    def relprop(self, y): \n",
    "        kwargs = {'alpha': 1} # this is how they do it in the relprop repo\n",
    "        return self.linear.relprop(y, **kwargs)"
   ]
  },
  {
   "cell_type": "code",
   "execution_count": 9,
   "id": "e58d60b3-e211-4e66-80a6-5001c22e2d56",
   "metadata": {},
   "outputs": [],
   "source": [
    "X_t = torch.rand((5,5))"
   ]
  },
  {
   "cell_type": "code",
   "execution_count": 10,
   "id": "248ba05b-1d14-49b3-bff2-9551a257a62b",
   "metadata": {},
   "outputs": [
    {
     "data": {
      "text/plain": [
       "tensor([[0.0396, 0.2021, 0.0094, 0.2014, 0.2615],\n",
       "        [0.3696, 0.1693, 0.2372, 0.2914, 0.5716],\n",
       "        [0.6876, 0.7824, 0.4204, 0.9479, 0.5541],\n",
       "        [0.3594, 0.6124, 0.4170, 0.4724, 0.7459],\n",
       "        [0.2507, 0.7391, 0.8448, 0.3919, 0.1333]])"
      ]
     },
     "execution_count": 10,
     "metadata": {},
     "output_type": "execute_result"
    }
   ],
   "source": [
    "X_t"
   ]
  },
  {
   "cell_type": "code",
   "execution_count": 11,
   "id": "7f8d0068-9686-4ea5-ab31-22bca9e93811",
   "metadata": {},
   "outputs": [],
   "source": [
    "test_net = TestNet()"
   ]
  },
  {
   "cell_type": "code",
   "execution_count": 12,
   "id": "2a5773bd-66ce-4345-9a83-74901adc0313",
   "metadata": {},
   "outputs": [
    {
     "data": {
      "text/plain": [
       "tensor([[ 0.0271,  0.2247,  0.0595,  0.0737,  0.0288],\n",
       "        [ 0.1560,  0.3779, -0.0645,  0.2782,  0.0513],\n",
       "        [ 0.0212,  0.7607,  0.2313,  0.3238,  0.1256],\n",
       "        [ 0.0778,  0.6604,  0.0195,  0.2062,  0.0615],\n",
       "        [-0.1338,  0.4483,  0.0294, -0.1131, -0.1263]], grad_fn=<MmBackward0>)"
      ]
     },
     "execution_count": 12,
     "metadata": {},
     "output_type": "execute_result"
    }
   ],
   "source": [
    "out_t = test_net.forward(X_t)\n",
    "out_t"
   ]
  },
  {
   "cell_type": "code",
   "execution_count": 13,
   "id": "af5d9ae6-0265-4e9c-9349-3d265a35c579",
   "metadata": {},
   "outputs": [
    {
     "data": {
      "text/plain": [
       "tensor([[ 1.5359e-02,  1.2895e-01,  1.8755e-04,  1.0302e-01,  1.6633e-01],\n",
       "        [ 1.5826e-01,  6.1305e-02,  9.8979e-03,  9.0426e-02,  4.7904e-01],\n",
       "        [ 2.3083e-01,  4.6282e-01,  4.1858e-03,  4.4671e-01,  3.1806e-01],\n",
       "        [ 1.0647e-01,  2.9200e-01,  8.0763e-03,  1.6335e-01,  4.5545e-01],\n",
       "        [-6.5436e-02,  2.3639e-01, -3.7730e-02, -2.0724e-02, -8.0368e-03]],\n",
       "       grad_fn=<SubBackward0>)"
      ]
     },
     "execution_count": 13,
     "metadata": {},
     "output_type": "execute_result"
    }
   ],
   "source": [
    "relprop_t = test_net.relprop(out_t)\n",
    "relprop_t"
   ]
  },
  {
   "cell_type": "code",
   "execution_count": null,
   "id": "2faddd4e-c9e0-4db0-8271-7cbcfdecb282",
   "metadata": {},
   "outputs": [],
   "source": []
  },
  {
   "cell_type": "markdown",
   "id": "df315fb9-966d-4ce0-9d6a-d63b3cebf950",
   "metadata": {},
   "source": [
    "## Jax implementation of linear layer relprop"
   ]
  },
  {
   "cell_type": "code",
   "execution_count": 22,
   "id": "28176aa7-f418-43b0-b0ca-680dcd0829ec",
   "metadata": {},
   "outputs": [],
   "source": [
    "import jax.numpy as jnp\n",
    "import jax.nn as jnn\n",
    "import jax"
   ]
  },
  {
   "cell_type": "markdown",
   "id": "a901f696-59c2-4d28-9fa1-b3c386b8188b",
   "metadata": {},
   "source": [
    "We test the linear layer and relprop against the same input"
   ]
  },
  {
   "cell_type": "code",
   "execution_count": 15,
   "id": "c8e7e50c-2a6c-4227-ba9f-500403d0b03e",
   "metadata": {},
   "outputs": [
    {
     "name": "stderr",
     "output_type": "stream",
     "text": [
      "WARNING:jax._src.lib.xla_bridge:No GPU/TPU found, falling back to CPU. (Set TF_CPP_MIN_LOG_LEVEL=0 and rerun for more info.)\n"
     ]
    },
    {
     "data": {
      "text/plain": [
       "DeviceArray([[0.03955817, 0.20212638, 0.00942403, 0.2013644 , 0.2615192 ],\n",
       "             [0.3695619 , 0.16926914, 0.23717767, 0.2913971 , 0.5716445 ],\n",
       "             [0.6875626 , 0.7824402 , 0.42037886, 0.947896  , 0.55408573],\n",
       "             [0.3594305 , 0.61237097, 0.4169714 , 0.47242063, 0.7459355 ],\n",
       "             [0.250704  , 0.73905694, 0.84475124, 0.3918997 , 0.13328278]],            dtype=float32)"
      ]
     },
     "execution_count": 15,
     "metadata": {},
     "output_type": "execute_result"
    }
   ],
   "source": [
    "X_j = jnp.array(X_t)\n",
    "X_j"
   ]
  },
  {
   "cell_type": "markdown",
   "id": "0c316c0c-01ac-4b17-b1e5-feefa9076ad1",
   "metadata": {},
   "source": [
    "Grab the params from the torch net"
   ]
  },
  {
   "cell_type": "code",
   "execution_count": 16,
   "id": "3629b1f4-32aa-4dcf-a596-ea202c677d89",
   "metadata": {},
   "outputs": [
    {
     "data": {
      "text/plain": [
       "DeviceArray([[ 0.02091356, -0.3537856 ,  0.04878209,  0.10913646,\n",
       "               0.28824186],\n",
       "             [ 0.07911818,  0.40988153,  0.00648237,  0.17079464,\n",
       "               0.39888352],\n",
       "             [-0.06482629,  0.24479395, -0.28112087,  0.3266349 ,\n",
       "              -0.19329758],\n",
       "             [ 0.3046329 , -0.34327713, -0.09880875,  0.27790838,\n",
       "               0.29062688],\n",
       "             [ 0.44012907,  0.30358416, -0.42777327, -0.26360548,\n",
       "               0.0272531 ]], dtype=float32)"
      ]
     },
     "execution_count": 16,
     "metadata": {},
     "output_type": "execute_result"
    }
   ],
   "source": [
    "params = jnp.array(test_net.linear.weight.detach().numpy())\n",
    "params"
   ]
  },
  {
   "cell_type": "code",
   "execution_count": 17,
   "id": "29668895-1cea-40a6-88a1-0ae092f99dfa",
   "metadata": {},
   "outputs": [],
   "source": [
    "def j_linear(a, b): \n",
    "    \"\"\"like torch.F.linear but in jax\"\"\"\n",
    "    return jnp.dot(b, a.T)"
   ]
  },
  {
   "cell_type": "code",
   "execution_count": 18,
   "id": "32543ec4-a29c-47ab-b8b1-0f36bb483b37",
   "metadata": {},
   "outputs": [],
   "source": [
    "def forward(params, x): \n",
    "    out = j_linear(params, x)\n",
    "    return out"
   ]
  },
  {
   "cell_type": "code",
   "execution_count": 23,
   "id": "14fefa60-064b-4a37-af68-22cc67101458",
   "metadata": {},
   "outputs": [],
   "source": [
    "backward = jax.grad(forward)"
   ]
  },
  {
   "cell_type": "code",
   "execution_count": 19,
   "id": "55958709-674c-4fdf-82a4-f2261a4a50a1",
   "metadata": {},
   "outputs": [
    {
     "data": {
      "text/plain": [
       "DeviceArray([[ 0.0271346 ,  0.22474639,  0.05948723,  0.07369954,\n",
       "               0.02878817],\n",
       "             [ 0.15598781,  0.37794545, -0.06451388,  0.27815622,\n",
       "               0.05134932],\n",
       "             [ 0.02123099,  0.7607427 ,  0.23129973,  0.3237837 ,\n",
       "               0.12555586],\n",
       "             [ 0.07777783,  0.66036826,  0.01950636,  0.20615955,\n",
       "               0.06152911],\n",
       "             [-0.13382761,  0.4483357 ,  0.02943215, -0.11314971,\n",
       "              -0.12632845]], dtype=float32)"
      ]
     },
     "execution_count": 19,
     "metadata": {},
     "output_type": "execute_result"
    }
   ],
   "source": [
    "out_j = forward(params, X_j)\n",
    "out_j"
   ]
  },
  {
   "cell_type": "code",
   "execution_count": 20,
   "id": "e0da3fed-2ca3-4d00-a716-66b64b996999",
   "metadata": {},
   "outputs": [],
   "source": [
    "import numpy as np"
   ]
  },
  {
   "cell_type": "markdown",
   "id": "6ee7c275-b9b2-44f4-aaad-6ed12c8c810a",
   "metadata": {},
   "source": [
    "Is the forward pass OK? "
   ]
  },
  {
   "cell_type": "code",
   "execution_count": 21,
   "id": "6cdcb700-bf2f-4748-857e-4041339353bd",
   "metadata": {},
   "outputs": [
    {
     "data": {
      "text/plain": [
       "True"
      ]
     },
     "execution_count": 21,
     "metadata": {},
     "output_type": "execute_result"
    }
   ],
   "source": [
    "np.allclose(np.array(out_j), out_t.detach().numpy())"
   ]
  },
  {
   "cell_type": "markdown",
   "id": "8346630e-aa6d-4d5e-af57-96114a37a789",
   "metadata": {},
   "source": [
    "cool, now for the hard part. "
   ]
  },
  {
   "cell_type": "code",
   "execution_count": 27,
   "id": "8b6c3ad2-4f1b-46a3-9d95-5ed0c775ca08",
   "metadata": {},
   "outputs": [],
   "source": [
    "from jax import jit"
   ]
  },
  {
   "cell_type": "code",
   "execution_count": 28,
   "id": "737250ab-aa19-45e4-a163-ffba70a7caf2",
   "metadata": {},
   "outputs": [],
   "source": [
    "@jit\n",
    "def safe_divide(a, b):\n",
    "    den = jnp.clip(b, a_min=1e-9) + jnp.clip(b, a_max=1e-9)\n",
    "    den = den + (den == 0).astype(den.dtype) * 1e-9\n",
    "    return a / den * (b != 0).astype(b.dtype)"
   ]
  },
  {
   "cell_type": "code",
   "execution_count": 29,
   "id": "d19292e3-eb8b-4687-ac7d-6e3383c8b9a3",
   "metadata": {},
   "outputs": [
    {
     "data": {
      "text/plain": [
       "DeviceArray([[ 0.52867854, -1.7503188 ,  5.1763506 ,  0.5419849 ,\n",
       "               1.1021824 ],\n",
       "             [ 0.2140864 ,  2.421478  ,  0.02733127,  0.58612335,\n",
       "               0.6977825 ],\n",
       "             [-0.0942842 ,  0.31285962, -0.66873217,  0.3445894 ,\n",
       "              -0.34885862],\n",
       "             [ 0.8475433 , -0.56057054, -0.2369677 ,  0.5882647 ,\n",
       "               0.38961396],\n",
       "             [ 1.7555727 ,  0.41077235, -0.5063896 , -0.672635  ,\n",
       "               0.20447579]], dtype=float32)"
      ]
     },
     "execution_count": 29,
     "metadata": {},
     "output_type": "execute_result"
    }
   ],
   "source": [
    "safe_divide(params, X_j)"
   ]
  },
  {
   "cell_type": "code",
   "execution_count": null,
   "id": "63296467-46d2-45e5-95a0-1a261b66ead3",
   "metadata": {},
   "outputs": [],
   "source": [
    "def linear_relprop(R, x params, alpha=1): \n",
    "    beta = alpha - 1\n",
    "    pw = jax.clip(params, min=0)\n",
    "    nw = jax.clip(params, max=0)\n",
    "    px = jax.clip(x,      min=0)\n",
    "    nx = jax.clip(x,      max=0)\n",
    "    \n",
    "    def f(w1, w2, x1, x2): \n",
    "        z1 = j_linear(x1, w1) \n",
    "        z2 = j_linear(x2, w2)\n",
    "        s1 = safe_divide(R, z1+z2) # why are there two of these\n",
    "        s2 = safe_divide(R, z1+z2) # for gradient reasons? \n",
    "        \n",
    "        c1 = x1 * (backward(z1, x1) * s1)\n",
    "        print(c1)\n",
    "        "
   ]
  },
  {
   "cell_type": "code",
   "execution_count": null,
   "id": "2cf7526c-8e76-44c0-b338-4a4c306b3700",
   "metadata": {},
   "outputs": [],
   "source": []
  }
 ],
 "metadata": {
  "kernelspec": {
   "display_name": "Python 3 (ipykernel)",
   "language": "python",
   "name": "python3"
  },
  "language_info": {
   "codemirror_mode": {
    "name": "ipython",
    "version": 3
   },
   "file_extension": ".py",
   "mimetype": "text/x-python",
   "name": "python",
   "nbconvert_exporter": "python",
   "pygments_lexer": "ipython3",
   "version": "3.10.6"
  }
 },
 "nbformat": 4,
 "nbformat_minor": 5
}
