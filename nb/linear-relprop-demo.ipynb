{
 "cells": [
  {
   "cell_type": "markdown",
   "id": "c75a83ab-16e8-4da3-b693-2057128be1bf",
   "metadata": {},
   "source": [
    "# Linear Layer RelProp Demo\n",
    "\n",
    "**Alok Kamatar and Mike Tynes**\n",
    "**2022.11.22**\n",
    "\n",
    "Here we show that we can reproduce the relprop on the linear layer from the reference paper. "
   ]
  },
  {
   "cell_type": "code",
   "execution_count": 1,
   "id": "ce004349-e7b0-4028-8ecb-71bbd9aef574",
   "metadata": {},
   "outputs": [
    {
     "name": "stderr",
     "output_type": "stream",
     "text": [
      "/home/mike/miniconda3/envs/TransformerExplainability/lib/python3.10/site-packages/tqdm/auto.py:22: TqdmWarning: IProgress not found. Please update jupyter and ipywidgets. See https://ipywidgets.readthedocs.io/en/stable/user_install.html\n",
      "  from .autonotebook import tqdm as notebook_tqdm\n"
     ]
    }
   ],
   "source": [
    "import torch \n",
    "from torch import nn\n",
    "\n",
    "from modules import layers_ours as layers\n",
    "\n",
    "%load_ext autoreload\n",
    "%autoreload 2"
   ]
  },
  {
   "cell_type": "markdown",
   "id": "6cb24bdf-2996-491a-b4e6-8aa6b0c12835",
   "metadata": {},
   "source": [
    "## Their linear layer and relprop"
   ]
  },
  {
   "cell_type": "markdown",
   "id": "7a0b68f6-8a58-412a-9b91-7d8c6e38bee3",
   "metadata": {},
   "source": [
    "We put a single instance of thier linear layer into a network to test agains "
   ]
  },
  {
   "cell_type": "code",
   "execution_count": 2,
   "id": "3f9c9b1e-b8c5-4958-b87a-643759a50b37",
   "metadata": {
    "tags": []
   },
   "outputs": [],
   "source": [
    "class TestNet(nn.Module): \n",
    "    \n",
    "    def __init__(self): \n",
    "        super().__init__()\n",
    "        self.linear = layers.Linear(5, 5, bias=False)\n",
    "    \n",
    "    def forward(self, x):\n",
    "        out = self.linear(x)\n",
    "        return out\n",
    "    \n",
    "    def relprop(self, y): \n",
    "        kwargs = {'alpha': 1} # this is how they do it in the relprop repo\n",
    "        return self.linear.relprop(y, **kwargs)"
   ]
  },
  {
   "cell_type": "code",
   "execution_count": 3,
   "id": "e58d60b3-e211-4e66-80a6-5001c22e2d56",
   "metadata": {},
   "outputs": [],
   "source": [
    "X_t = torch.rand((1,5))"
   ]
  },
  {
   "cell_type": "code",
   "execution_count": 4,
   "id": "248ba05b-1d14-49b3-bff2-9551a257a62b",
   "metadata": {},
   "outputs": [
    {
     "data": {
      "text/plain": [
       "tensor([[0.9575, 0.0148, 0.8885, 0.0716, 0.8014]])"
      ]
     },
     "execution_count": 4,
     "metadata": {},
     "output_type": "execute_result"
    }
   ],
   "source": [
    "X_t"
   ]
  },
  {
   "cell_type": "code",
   "execution_count": 5,
   "id": "7f8d0068-9686-4ea5-ab31-22bca9e93811",
   "metadata": {},
   "outputs": [],
   "source": [
    "test_net = TestNet()"
   ]
  },
  {
   "cell_type": "code",
   "execution_count": 6,
   "id": "2a5773bd-66ce-4345-9a83-74901adc0313",
   "metadata": {},
   "outputs": [
    {
     "data": {
      "text/plain": [
       "tensor([[-0.5447,  1.0457,  0.0854,  0.5045,  0.0797]], grad_fn=<MmBackward0>)"
      ]
     },
     "execution_count": 6,
     "metadata": {},
     "output_type": "execute_result"
    }
   ],
   "source": [
    "out_t = test_net.forward(X_t)\n",
    "out_t"
   ]
  },
  {
   "cell_type": "code",
   "execution_count": 7,
   "id": "af5d9ae6-0265-4e9c-9349-3d265a35c579",
   "metadata": {
    "tags": []
   },
   "outputs": [
    {
     "data": {
      "text/plain": [
       "tensor([[ 0.1852, -0.0043,  0.4465,  0.0291,  0.5139]], grad_fn=<SubBackward0>)"
      ]
     },
     "execution_count": 7,
     "metadata": {},
     "output_type": "execute_result"
    }
   ],
   "source": [
    "relprop_t = test_net.relprop(out_t)\n",
    "relprop_t"
   ]
  },
  {
   "cell_type": "code",
   "execution_count": null,
   "id": "2faddd4e-c9e0-4db0-8271-7cbcfdecb282",
   "metadata": {},
   "outputs": [],
   "source": []
  },
  {
   "cell_type": "markdown",
   "id": "df315fb9-966d-4ce0-9d6a-d63b3cebf950",
   "metadata": {},
   "source": [
    "## Jax implementation of linear layer relprop"
   ]
  },
  {
   "cell_type": "code",
   "execution_count": 8,
   "id": "28176aa7-f418-43b0-b0ca-680dcd0829ec",
   "metadata": {},
   "outputs": [],
   "source": [
    "import jax.numpy as jnp\n",
    "import jax.nn as jnn\n",
    "import jax"
   ]
  },
  {
   "cell_type": "markdown",
   "id": "a901f696-59c2-4d28-9fa1-b3c386b8188b",
   "metadata": {},
   "source": [
    "We test the linear layer and relprop against the same input"
   ]
  },
  {
   "cell_type": "code",
   "execution_count": 9,
   "id": "c8e7e50c-2a6c-4227-ba9f-500403d0b03e",
   "metadata": {},
   "outputs": [
    {
     "name": "stderr",
     "output_type": "stream",
     "text": [
      "WARNING:jax._src.lib.xla_bridge:No GPU/TPU found, falling back to CPU. (Set TF_CPP_MIN_LOG_LEVEL=0 and rerun for more info.)\n"
     ]
    },
    {
     "data": {
      "text/plain": [
       "DeviceArray([[0.95748496, 0.01477087, 0.8885277 , 0.07158202, 0.80135876]],            dtype=float32)"
      ]
     },
     "execution_count": 9,
     "metadata": {},
     "output_type": "execute_result"
    }
   ],
   "source": [
    "X_j = jnp.array(X_t)\n",
    "X_j"
   ]
  },
  {
   "cell_type": "markdown",
   "id": "0c316c0c-01ac-4b17-b1e5-feefa9076ad1",
   "metadata": {},
   "source": [
    "Grab the params from the torch net"
   ]
  },
  {
   "cell_type": "code",
   "execution_count": 10,
   "id": "3629b1f4-32aa-4dcf-a596-ea202c677d89",
   "metadata": {},
   "outputs": [
    {
     "data": {
      "text/plain": [
       "DeviceArray([[ 0.05143719,  0.05079835, -0.38719702, -0.10237346,\n",
       "              -0.30360562],\n",
       "             [ 0.4078076 ,  0.14633663,  0.4181239 , -0.08558807,\n",
       "               0.35894793],\n",
       "             [ 0.38435724,  0.27652642,  0.02783004,  0.13175456,\n",
       "              -0.40045315],\n",
       "             [ 0.3494682 ,  0.06004746, -0.17389387,  0.35976076,\n",
       "               0.371603  ],\n",
       "             [-0.22262457,  0.06671791,  0.33893257,  0.4350806 ,\n",
       "              -0.05049613]], dtype=float32)"
      ]
     },
     "execution_count": 10,
     "metadata": {},
     "output_type": "execute_result"
    }
   ],
   "source": [
    "params = jnp.array(test_net.linear.weight.detach().numpy())\n",
    "params"
   ]
  },
  {
   "cell_type": "code",
   "execution_count": 11,
   "id": "29668895-1cea-40a6-88a1-0ae092f99dfa",
   "metadata": {},
   "outputs": [],
   "source": [
    "def j_linear(A, x): \n",
    "    \"\"\"like torch.F.linear but in jax\"\"\"\n",
    "    return x @ A.T"
   ]
  },
  {
   "cell_type": "code",
   "execution_count": 12,
   "id": "32543ec4-a29c-47ab-b8b1-0f36bb483b37",
   "metadata": {},
   "outputs": [],
   "source": [
    "def forward(params, x): \n",
    "    out = j_linear(params, x)\n",
    "    return out"
   ]
  },
  {
   "cell_type": "code",
   "execution_count": 13,
   "id": "14fefa60-064b-4a37-af68-22cc67101458",
   "metadata": {},
   "outputs": [],
   "source": [
    "backward = jax.jacfwd(forward, 1)"
   ]
  },
  {
   "cell_type": "code",
   "execution_count": 14,
   "id": "027b989d-ab70-40e1-9ba1-b0fe0809c8a6",
   "metadata": {},
   "outputs": [
    {
     "data": {
      "text/plain": [
       "DeviceArray([[2., 0.],\n",
       "             [0., 2.]], dtype=float32)"
      ]
     },
     "execution_count": 14,
     "metadata": {},
     "output_type": "execute_result"
    }
   ],
   "source": [
    "backward(jnp.asarray([[2., 0.], [0., 2.]]), jnp.asarray([1.,1.]))"
   ]
  },
  {
   "cell_type": "code",
   "execution_count": 15,
   "id": "a93d133b-5efb-4701-83eb-382864eaa6f3",
   "metadata": {},
   "outputs": [
    {
     "data": {
      "text/plain": [
       "(5, 5)"
      ]
     },
     "execution_count": 15,
     "metadata": {},
     "output_type": "execute_result"
    }
   ],
   "source": [
    "params.shape"
   ]
  },
  {
   "cell_type": "code",
   "execution_count": 16,
   "id": "55958709-674c-4fdf-82a4-f2261a4a50a1",
   "metadata": {},
   "outputs": [
    {
     "data": {
      "text/plain": [
       "DeviceArray([[-0.54465973,  1.0456654 ,  0.08535317,  0.5045277 ,\n",
       "               0.07965522]], dtype=float32)"
      ]
     },
     "execution_count": 16,
     "metadata": {},
     "output_type": "execute_result"
    }
   ],
   "source": [
    "out_j = forward(params, X_j)\n",
    "out_j"
   ]
  },
  {
   "cell_type": "code",
   "execution_count": 17,
   "id": "ae75de2c-cbf9-4695-85d4-4d85ae9948bd",
   "metadata": {},
   "outputs": [
    {
     "data": {
      "text/plain": [
       "tensor([[-0.5447,  1.0457,  0.0854,  0.5045,  0.0797]], grad_fn=<MmBackward0>)"
      ]
     },
     "execution_count": 17,
     "metadata": {},
     "output_type": "execute_result"
    }
   ],
   "source": [
    "out_t"
   ]
  },
  {
   "cell_type": "code",
   "execution_count": 18,
   "id": "4d60c258-0b6c-48ea-8fd4-4cb6eaf213fa",
   "metadata": {},
   "outputs": [
    {
     "data": {
      "text/plain": [
       "DeviceArray([[ 0.05143719,  0.05079835, -0.38719702, -0.10237346,\n",
       "              -0.30360562],\n",
       "             [ 0.4078076 ,  0.14633663,  0.4181239 , -0.08558807,\n",
       "               0.35894793],\n",
       "             [ 0.38435724,  0.27652642,  0.02783004,  0.13175456,\n",
       "              -0.40045315],\n",
       "             [ 0.3494682 ,  0.06004746, -0.17389387,  0.35976076,\n",
       "               0.371603  ],\n",
       "             [-0.22262457,  0.06671791,  0.33893257,  0.4350806 ,\n",
       "              -0.05049613]], dtype=float32)"
      ]
     },
     "execution_count": 18,
     "metadata": {},
     "output_type": "execute_result"
    }
   ],
   "source": [
    "backward(params, X_j.squeeze())"
   ]
  },
  {
   "cell_type": "code",
   "execution_count": 19,
   "id": "e0da3fed-2ca3-4d00-a716-66b64b996999",
   "metadata": {},
   "outputs": [],
   "source": [
    "import numpy as np"
   ]
  },
  {
   "cell_type": "markdown",
   "id": "6ee7c275-b9b2-44f4-aaad-6ed12c8c810a",
   "metadata": {},
   "source": [
    "Is the forward pass OK? "
   ]
  },
  {
   "cell_type": "code",
   "execution_count": 20,
   "id": "6cdcb700-bf2f-4748-857e-4041339353bd",
   "metadata": {},
   "outputs": [
    {
     "data": {
      "text/plain": [
       "True"
      ]
     },
     "execution_count": 20,
     "metadata": {},
     "output_type": "execute_result"
    }
   ],
   "source": [
    "np.allclose(np.array(out_j), out_t.detach().numpy())"
   ]
  },
  {
   "cell_type": "markdown",
   "id": "8346630e-aa6d-4d5e-af57-96114a37a789",
   "metadata": {},
   "source": [
    "cool, now for the hard part. "
   ]
  },
  {
   "cell_type": "code",
   "execution_count": 21,
   "id": "8b6c3ad2-4f1b-46a3-9d95-5ed0c775ca08",
   "metadata": {},
   "outputs": [],
   "source": [
    "from jax import jit"
   ]
  },
  {
   "cell_type": "code",
   "execution_count": 22,
   "id": "737250ab-aa19-45e4-a163-ffba70a7caf2",
   "metadata": {},
   "outputs": [],
   "source": [
    "@jit\n",
    "def safe_divide(a, b):\n",
    "    den = jnp.clip(b, a_min=1e-9) + jnp.clip(b, a_max=1e-9)\n",
    "    den = den + (den == 0).astype(den.dtype) * 1e-9\n",
    "    return a / den * (b != 0).astype(b.dtype)"
   ]
  },
  {
   "cell_type": "code",
   "execution_count": 23,
   "id": "d19292e3-eb8b-4687-ac7d-6e3383c8b9a3",
   "metadata": {},
   "outputs": [
    {
     "data": {
      "text/plain": [
       "DeviceArray([[ 0.05372115,  3.439091  , -0.43577373, -1.4301561 ,\n",
       "              -0.37886354],\n",
       "             [ 0.4259154 ,  9.907112  ,  0.4705806 , -1.1956643 ,\n",
       "               0.44792414],\n",
       "             [ 0.40142378, 18.72107   ,  0.03132153,  1.8406098 ,\n",
       "              -0.49971768],\n",
       "             [ 0.3649856 ,  4.065263  , -0.19571012,  5.0258536 ,\n",
       "               0.46371618],\n",
       "             [-0.23250973,  4.516858  ,  0.38145414,  6.078071  ,\n",
       "              -0.06301314]], dtype=float32)"
      ]
     },
     "execution_count": 23,
     "metadata": {},
     "output_type": "execute_result"
    }
   ],
   "source": [
    "safe_divide(params, X_j)"
   ]
  },
  {
   "cell_type": "code",
   "execution_count": 24,
   "id": "63296467-46d2-45e5-95a0-1a261b66ead3",
   "metadata": {},
   "outputs": [],
   "source": [
    "def linear_relprop(R, x, params, alpha=1): \n",
    "    beta = alpha - 1\n",
    "    pw = jnp.clip(params, a_min=0)\n",
    "    nw = jnp.clip(params, a_max=0)\n",
    "    px = jnp.clip(x,      a_min=0)\n",
    "    nx = jnp.clip(x,      a_max=0)\n",
    "    \n",
    "    def f(w1, w2, x1, x2): \n",
    "        z1 = j_linear(w1, x1) \n",
    "        z2 = j_linear(w2, x2)\n",
    "        s1 = safe_divide(R, z1+z2) # why are there two of these\n",
    "        s2 = safe_divide(R, z1+z2) # for gradient reasons? \n",
    "        # there has to be a cleaner way, right?\n",
    "        _, vjp = jax.vjp(lambda x : j_linear(w1, x), x1)\n",
    "        c1 = x1 * vjp(s1)[0]\n",
    "        _, vjp = jax.vjp(lambda x : j_linear(w1, x), x2)\n",
    "        c2 = x2 * vjp(s2)[0]\n",
    "        return c1 + c2\n",
    "    \n",
    "    activator_relevances = f(pw, nw, px, nx)\n",
    "    inhibitor_relevances = f(nw, pw, px, nx)\n",
    "    R = alpha * activator_relevances - beta * inhibitor_relevances\n",
    "    return R"
   ]
  },
  {
   "cell_type": "code",
   "execution_count": 25,
   "id": "a00d7127-e8b1-4a9a-85ab-ac9d7f29e0f9",
   "metadata": {
    "tags": []
   },
   "outputs": [
    {
     "data": {
      "text/plain": [
       "DeviceArray([[ 0.18518934, -0.00425183,  0.44652203,  0.0291398 ,\n",
       "               0.5139424 ]], dtype=float32)"
      ]
     },
     "execution_count": 25,
     "metadata": {},
     "output_type": "execute_result"
    }
   ],
   "source": [
    "relevance_j = linear_relprop(out_j, X_j, params)\n",
    "relevance_j"
   ]
  },
  {
   "cell_type": "code",
   "execution_count": 26,
   "id": "a84b5623-8d84-45b0-a701-628720700894",
   "metadata": {},
   "outputs": [
    {
     "data": {
      "text/plain": [
       "tensor([[ 0.1852, -0.0043,  0.4465,  0.0291,  0.5139]], grad_fn=<SubBackward0>)"
      ]
     },
     "execution_count": 26,
     "metadata": {},
     "output_type": "execute_result"
    }
   ],
   "source": [
    "relevance_t = test_net.relprop(out_t)\n",
    "relevance_t"
   ]
  },
  {
   "cell_type": "code",
   "execution_count": 27,
   "id": "070e045a-03cb-4e2c-9148-3ce580738999",
   "metadata": {},
   "outputs": [
    {
     "data": {
      "text/plain": [
       "True"
      ]
     },
     "execution_count": 27,
     "metadata": {},
     "output_type": "execute_result"
    }
   ],
   "source": [
    "np.allclose(np.asarray(relevance_j), \n",
    "            relevance_t.detach().numpy())"
   ]
  },
  {
   "cell_type": "markdown",
   "id": "2bfdd0ae-d80d-4496-88fc-8771538c6ecf",
   "metadata": {},
   "source": [
    "Bullseye"
   ]
  },
  {
   "cell_type": "code",
   "execution_count": null,
   "id": "07aa69fb-46fb-4778-86c5-270475a15097",
   "metadata": {},
   "outputs": [],
   "source": []
  }
 ],
 "metadata": {
  "kernelspec": {
   "display_name": "Python 3 (ipykernel)",
   "language": "python",
   "name": "python3"
  },
  "language_info": {
   "codemirror_mode": {
    "name": "ipython",
    "version": 3
   },
   "file_extension": ".py",
   "mimetype": "text/x-python",
   "name": "python",
   "nbconvert_exporter": "python",
   "pygments_lexer": "ipython3",
   "version": "3.10.6"
  }
 },
 "nbformat": 4,
 "nbformat_minor": 5
}
